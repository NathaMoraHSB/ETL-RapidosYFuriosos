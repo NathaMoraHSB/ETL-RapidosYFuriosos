{
 "cells": [
  {
   "metadata": {},
   "cell_type": "markdown",
   "source": "## Inicializar la Dimensión Novedad",
   "id": "966a978153ffeac3"
  },
  {
   "cell_type": "code",
   "id": "initial_id",
   "metadata": {
    "collapsed": true,
    "ExecuteTime": {
     "end_time": "2024-11-03T22:06:36.806888Z",
     "start_time": "2024-11-03T22:06:36.802366Z"
    }
   },
   "source": [
    "import pandas as pd\n",
    "from sqlalchemy import create_engine\n",
    "import yaml"
   ],
   "outputs": [],
   "execution_count": 5
  },
  {
   "metadata": {},
   "cell_type": "markdown",
   "source": "# Añadir conexión a la base de datos\n",
   "id": "6a5f5380472e9e4c"
  },
  {
   "metadata": {
    "ExecuteTime": {
     "end_time": "2024-11-03T22:06:38.782844Z",
     "start_time": "2024-11-03T22:06:38.774026Z"
    }
   },
   "cell_type": "code",
   "source": [
    "with open('../config.yml', 'r') as f:\n",
    "    config = yaml.safe_load(f)\n",
    "    config_ryf = config['RAPIDOS-Y_FURIOSOS']\n",
    "    config_etl = config['ETL_RYF']\n",
    "\n",
    "# Construir la URL de conexión para cada base de datos\n",
    "url_ryf = (f\"{config_ryf['drivername']}://{config_ryf['user']}:{config_ryf['password']}@\"\n",
    "           f\"{config_ryf['host']}:{config_ryf['port']}/{config_ryf['dbname']}\")\n",
    "\n",
    "url_etl = (f\"{config_etl['drivername']}://{config_etl['user']}:{config_etl['password']}@\"\n",
    "           f\"{config_etl['host']}:{config_etl['port']}/{config_etl['dbname']}\")\n",
    "\n",
    "# Crear el Engine de SQLAlchemy para ambas conexiones\n",
    "ryf_conn = create_engine(url_ryf)\n",
    "etl_conn = create_engine(url_etl)"
   ],
   "id": "ab2292e3d06ea1ac",
   "outputs": [],
   "execution_count": 6
  },
  {
   "metadata": {},
   "cell_type": "markdown",
   "source": "# Extracción de Datos para la Dimensión Novedad",
   "id": "f2721ae22bfcfb8c"
  },
  {
   "metadata": {
    "ExecuteTime": {
     "end_time": "2024-11-03T22:06:40.790865Z",
     "start_time": "2024-11-03T22:06:40.671176Z"
    }
   },
   "cell_type": "code",
   "source": [
    "query = \"\"\"\n",
    "SELECT\n",
    "    mn.id AS novedad_id,\n",
    "    mn.descripcion AS novedad_descripcion,\n",
    "    mn.fecha_novedad,\n",
    "    TO_CHAR(mn.fecha_novedad, 'YYYY-MM-DD') AS novedad_fecha,\n",
    "    TO_CHAR(mn.fecha_novedad, 'HH24:MI:SS') AS novedad_hora,\n",
    "    mt.nombre AS tipo_novedad_nombre\n",
    "FROM\n",
    "    public.mensajeria_novedadesservicio mn\n",
    "LEFT JOIN\n",
    "    public.mensajeria_tiponovedad mt ON mn.tipo_novedad_id = mt.id;\n",
    "\"\"\"\n",
    "\n",
    "# Leer los datos desde la base de datos 'RAPIDOS-Y_FURIOSOS' a un DataFrame de Pandas\n",
    "df_novedad = pd.read_sql(query, ryf_conn)\n",
    "\n",
    "# Mostrar los primeros registros para verificar la extracción\n",
    "df_novedad.head()"
   ],
   "id": "66cff67b6f90bd7d",
   "outputs": [
    {
     "data": {
      "text/plain": [
       "   novedad_id novedad_descripcion             fecha_novedad novedad_fecha  \\\n",
       "0           4                   A 2023-11-30 05:00:00+00:00    2023-11-30   \n",
       "1           5                Halo 2023-11-30 05:00:00+00:00    2023-11-30   \n",
       "2           6                   A 2023-11-30 05:00:00+00:00    2023-11-30   \n",
       "3           7                   B 2023-11-30 05:00:00+00:00    2023-11-30   \n",
       "4           8                   A 2023-11-30 05:00:00+00:00    2023-11-30   \n",
       "\n",
       "  novedad_hora     tipo_novedad_nombre  \n",
       "0     05:00:00  Novedades del servicio  \n",
       "1     05:00:00  Novedades del servicio  \n",
       "2     05:00:00  Novedades del servicio  \n",
       "3     05:00:00  Novedades del servicio  \n",
       "4     05:00:00  Novedades del servicio  "
      ],
      "text/html": [
       "<div>\n",
       "<style scoped>\n",
       "    .dataframe tbody tr th:only-of-type {\n",
       "        vertical-align: middle;\n",
       "    }\n",
       "\n",
       "    .dataframe tbody tr th {\n",
       "        vertical-align: top;\n",
       "    }\n",
       "\n",
       "    .dataframe thead th {\n",
       "        text-align: right;\n",
       "    }\n",
       "</style>\n",
       "<table border=\"1\" class=\"dataframe\">\n",
       "  <thead>\n",
       "    <tr style=\"text-align: right;\">\n",
       "      <th></th>\n",
       "      <th>novedad_id</th>\n",
       "      <th>novedad_descripcion</th>\n",
       "      <th>fecha_novedad</th>\n",
       "      <th>novedad_fecha</th>\n",
       "      <th>novedad_hora</th>\n",
       "      <th>tipo_novedad_nombre</th>\n",
       "    </tr>\n",
       "  </thead>\n",
       "  <tbody>\n",
       "    <tr>\n",
       "      <th>0</th>\n",
       "      <td>4</td>\n",
       "      <td>A</td>\n",
       "      <td>2023-11-30 05:00:00+00:00</td>\n",
       "      <td>2023-11-30</td>\n",
       "      <td>05:00:00</td>\n",
       "      <td>Novedades del servicio</td>\n",
       "    </tr>\n",
       "    <tr>\n",
       "      <th>1</th>\n",
       "      <td>5</td>\n",
       "      <td>Halo</td>\n",
       "      <td>2023-11-30 05:00:00+00:00</td>\n",
       "      <td>2023-11-30</td>\n",
       "      <td>05:00:00</td>\n",
       "      <td>Novedades del servicio</td>\n",
       "    </tr>\n",
       "    <tr>\n",
       "      <th>2</th>\n",
       "      <td>6</td>\n",
       "      <td>A</td>\n",
       "      <td>2023-11-30 05:00:00+00:00</td>\n",
       "      <td>2023-11-30</td>\n",
       "      <td>05:00:00</td>\n",
       "      <td>Novedades del servicio</td>\n",
       "    </tr>\n",
       "    <tr>\n",
       "      <th>3</th>\n",
       "      <td>7</td>\n",
       "      <td>B</td>\n",
       "      <td>2023-11-30 05:00:00+00:00</td>\n",
       "      <td>2023-11-30</td>\n",
       "      <td>05:00:00</td>\n",
       "      <td>Novedades del servicio</td>\n",
       "    </tr>\n",
       "    <tr>\n",
       "      <th>4</th>\n",
       "      <td>8</td>\n",
       "      <td>A</td>\n",
       "      <td>2023-11-30 05:00:00+00:00</td>\n",
       "      <td>2023-11-30</td>\n",
       "      <td>05:00:00</td>\n",
       "      <td>Novedades del servicio</td>\n",
       "    </tr>\n",
       "  </tbody>\n",
       "</table>\n",
       "</div>"
      ]
     },
     "execution_count": 7,
     "metadata": {},
     "output_type": "execute_result"
    }
   ],
   "execution_count": 7
  },
  {
   "metadata": {},
   "cell_type": "markdown",
   "source": "Transformación de los Datos para la Dimensión Novedad",
   "id": "c4a1b7e593bce75f"
  },
  {
   "metadata": {
    "ExecuteTime": {
     "end_time": "2024-11-03T22:06:43.609777Z",
     "start_time": "2024-11-03T22:06:43.594683Z"
    }
   },
   "cell_type": "code",
   "source": [
    "# Verificar duplicados y datos nulos\n",
    "df_novedad.drop_duplicates(subset=['novedad_id'], inplace=True)\n",
    "df_novedad.fillna({'novedad_descripcion': 'Sin descripción'}, inplace=True)\n",
    "\n",
    "# Mostrar los primeros registros después de la transformación\n",
    "df_novedad.head()"
   ],
   "id": "98b822d9000cc53",
   "outputs": [
    {
     "data": {
      "text/plain": [
       "   novedad_id novedad_descripcion             fecha_novedad novedad_fecha  \\\n",
       "0           4                   A 2023-11-30 05:00:00+00:00    2023-11-30   \n",
       "1           5                Halo 2023-11-30 05:00:00+00:00    2023-11-30   \n",
       "2           6                   A 2023-11-30 05:00:00+00:00    2023-11-30   \n",
       "3           7                   B 2023-11-30 05:00:00+00:00    2023-11-30   \n",
       "4           8                   A 2023-11-30 05:00:00+00:00    2023-11-30   \n",
       "\n",
       "  novedad_hora     tipo_novedad_nombre  \n",
       "0     05:00:00  Novedades del servicio  \n",
       "1     05:00:00  Novedades del servicio  \n",
       "2     05:00:00  Novedades del servicio  \n",
       "3     05:00:00  Novedades del servicio  \n",
       "4     05:00:00  Novedades del servicio  "
      ],
      "text/html": [
       "<div>\n",
       "<style scoped>\n",
       "    .dataframe tbody tr th:only-of-type {\n",
       "        vertical-align: middle;\n",
       "    }\n",
       "\n",
       "    .dataframe tbody tr th {\n",
       "        vertical-align: top;\n",
       "    }\n",
       "\n",
       "    .dataframe thead th {\n",
       "        text-align: right;\n",
       "    }\n",
       "</style>\n",
       "<table border=\"1\" class=\"dataframe\">\n",
       "  <thead>\n",
       "    <tr style=\"text-align: right;\">\n",
       "      <th></th>\n",
       "      <th>novedad_id</th>\n",
       "      <th>novedad_descripcion</th>\n",
       "      <th>fecha_novedad</th>\n",
       "      <th>novedad_fecha</th>\n",
       "      <th>novedad_hora</th>\n",
       "      <th>tipo_novedad_nombre</th>\n",
       "    </tr>\n",
       "  </thead>\n",
       "  <tbody>\n",
       "    <tr>\n",
       "      <th>0</th>\n",
       "      <td>4</td>\n",
       "      <td>A</td>\n",
       "      <td>2023-11-30 05:00:00+00:00</td>\n",
       "      <td>2023-11-30</td>\n",
       "      <td>05:00:00</td>\n",
       "      <td>Novedades del servicio</td>\n",
       "    </tr>\n",
       "    <tr>\n",
       "      <th>1</th>\n",
       "      <td>5</td>\n",
       "      <td>Halo</td>\n",
       "      <td>2023-11-30 05:00:00+00:00</td>\n",
       "      <td>2023-11-30</td>\n",
       "      <td>05:00:00</td>\n",
       "      <td>Novedades del servicio</td>\n",
       "    </tr>\n",
       "    <tr>\n",
       "      <th>2</th>\n",
       "      <td>6</td>\n",
       "      <td>A</td>\n",
       "      <td>2023-11-30 05:00:00+00:00</td>\n",
       "      <td>2023-11-30</td>\n",
       "      <td>05:00:00</td>\n",
       "      <td>Novedades del servicio</td>\n",
       "    </tr>\n",
       "    <tr>\n",
       "      <th>3</th>\n",
       "      <td>7</td>\n",
       "      <td>B</td>\n",
       "      <td>2023-11-30 05:00:00+00:00</td>\n",
       "      <td>2023-11-30</td>\n",
       "      <td>05:00:00</td>\n",
       "      <td>Novedades del servicio</td>\n",
       "    </tr>\n",
       "    <tr>\n",
       "      <th>4</th>\n",
       "      <td>8</td>\n",
       "      <td>A</td>\n",
       "      <td>2023-11-30 05:00:00+00:00</td>\n",
       "      <td>2023-11-30</td>\n",
       "      <td>05:00:00</td>\n",
       "      <td>Novedades del servicio</td>\n",
       "    </tr>\n",
       "  </tbody>\n",
       "</table>\n",
       "</div>"
      ]
     },
     "execution_count": 8,
     "metadata": {},
     "output_type": "execute_result"
    }
   ],
   "execution_count": 8
  },
  {
   "metadata": {},
   "cell_type": "markdown",
   "source": "# Carga de la Dimensión Novedad ",
   "id": "9e3ac8e4c5d3108a"
  },
  {
   "metadata": {
    "ExecuteTime": {
     "end_time": "2024-11-03T22:06:47.099257Z",
     "start_time": "2024-11-03T22:06:46.516816Z"
    }
   },
   "cell_type": "code",
   "source": "df_novedad.to_sql('dim_novedad', etl_conn, if_exists='replace', index_label='key_dim_novedad')\n",
   "id": "3a5dab67fbf65ee1",
   "outputs": [
    {
     "data": {
      "text/plain": [
       "208"
      ]
     },
     "execution_count": 9,
     "metadata": {},
     "output_type": "execute_result"
    }
   ],
   "execution_count": 9
  },
  {
   "metadata": {},
   "cell_type": "code",
   "outputs": [],
   "execution_count": null,
   "source": "",
   "id": "dc6d5fbd27b78db0"
  }
 ],
 "metadata": {
  "kernelspec": {
   "display_name": "Python 3",
   "language": "python",
   "name": "python3"
  },
  "language_info": {
   "codemirror_mode": {
    "name": "ipython",
    "version": 2
   },
   "file_extension": ".py",
   "mimetype": "text/x-python",
   "name": "python",
   "nbconvert_exporter": "python",
   "pygments_lexer": "ipython2",
   "version": "2.7.6"
  }
 },
 "nbformat": 4,
 "nbformat_minor": 5
}
