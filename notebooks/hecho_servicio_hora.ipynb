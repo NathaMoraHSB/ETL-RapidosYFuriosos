{
 "cells": [
  {
   "metadata": {},
   "cell_type": "markdown",
   "source": "# Hecho servicios por hora",
   "id": "593ff778f10d3682"
  },
  {
   "cell_type": "code",
   "id": "initial_id",
   "metadata": {
    "collapsed": true,
    "ExecuteTime": {
     "end_time": "2024-11-03T15:41:49.204718Z",
     "start_time": "2024-11-03T15:41:49.200545Z"
    }
   },
   "source": [
    "import datetime\n",
    "import numpy as np\n",
    "import pandas as pd\n",
    "import yaml\n",
    "from sqlalchemy import create_engine, text"
   ],
   "outputs": [],
   "execution_count": 5
  },
  {
   "metadata": {},
   "cell_type": "markdown",
   "source": "# Añadir conexión a la base de datos",
   "id": "d126980c74ad0391"
  },
  {
   "metadata": {
    "ExecuteTime": {
     "end_time": "2024-11-03T15:41:51.211825Z",
     "start_time": "2024-11-03T15:41:51.202267Z"
    }
   },
   "cell_type": "code",
   "source": [
    "with open('../config.yml', 'r') as f:\n",
    "    config = yaml.safe_load(f)\n",
    "    config_ryf = config['RAPIDOS-Y_FURIOSOS']\n",
    "    config_etl = config['ETL_RYF']\n",
    "\n",
    "# Construir la URL de conexión para cada base de datos\n",
    "url_ryf = (f\"{config_ryf['drivername']}://{config_ryf['user']}:{config_ryf['password']}@\"\n",
    "           f\"{config_ryf['host']}:{config_ryf['port']}/{config_ryf['dbname']}\")\n",
    "\n",
    "url_etl = (f\"{config_etl['drivername']}://{config_etl['user']}:{config_etl['password']}@\"\n",
    "           f\"{config_etl['host']}:{config_etl['port']}/{config_etl['dbname']}\")\n",
    "\n",
    "# Crear el Engine de SQLAlchemy para ambas conexiones\n",
    "ryf_conn = create_engine(url_ryf)\n",
    "etl_conn = create_engine(url_etl)"
   ],
   "id": "b109e9c306f11ce",
   "outputs": [],
   "execution_count": 6
  },
  {
   "metadata": {},
   "cell_type": "markdown",
   "source": "# Crear la tabla de hechos en la base de datos ETL",
   "id": "434a16ba65c3233f"
  },
  {
   "metadata": {
    "ExecuteTime": {
     "end_time": "2024-11-03T15:41:53.151414Z",
     "start_time": "2024-11-03T15:41:53.146136Z"
    }
   },
   "cell_type": "code",
   "source": [
    "create_table_query = \"\"\"\n",
    "CREATE TABLE IF NOT EXISTS hecho_servicios_fases (\n",
    "    servicio_id INTEGER NOT NULL,\n",
    "    cliente_id INTEGER NOT NULL,\n",
    "    sede_id INTEGER NOT NULL,\n",
    "    mensajero_id INTEGER NOT NULL,\n",
    "    novedad_id INTEGER,\n",
    "    fecha_solicitud_id INTEGER NOT NULL,\n",
    "    hora_solicitud_id INTEGER NOT NULL,\n",
    "    fecha_cierre_id INTEGER,\n",
    "    hora_cierre_id INTEGER,\n",
    "    tiempo_entrega_minutos INTEGER,\n",
    "    PRIMARY KEY (servicio_id)\n",
    ");\n",
    "\"\"\""
   ],
   "id": "ce2970e0a882be82",
   "outputs": [],
   "execution_count": 7
  },
  {
   "metadata": {},
   "cell_type": "markdown",
   "source": "# Ejecutar la creación de la tabla en la base de datos ETL",
   "id": "3541fc014f31e6d7"
  },
  {
   "metadata": {
    "ExecuteTime": {
     "end_time": "2024-11-03T15:41:55.087029Z",
     "start_time": "2024-11-03T15:41:54.961335Z"
    }
   },
   "cell_type": "code",
   "source": [
    "with etl_conn.connect() as conn:\n",
    "    conn.execute(text(create_table_query))\n",
    "    print(\"Tabla de hechos `hechos_servicios_por_fase` creada con éxito.\")"
   ],
   "id": "af23ced063dac230",
   "outputs": [
    {
     "name": "stdout",
     "output_type": "stream",
     "text": [
      "Tabla de hechos `hechos_servicios_por_fase` creada con éxito.\n"
     ]
    }
   ],
   "execution_count": 8
  },
  {
   "metadata": {},
   "cell_type": "markdown",
   "source": "# Extracción de datos",
   "id": "7afc532dcc9aefa6"
  },
  {
   "metadata": {
    "ExecuteTime": {
     "end_time": "2024-11-03T15:42:31.254979Z",
     "start_time": "2024-11-03T15:42:31.241901Z"
    }
   },
   "cell_type": "code",
   "source": [
    "query_servicios = \"\"\"\n",
    "SELECT\n",
    "    s.id AS servicio_id,\n",
    "    s.cliente_id,\n",
    "    s.mensajero_id,\n",
    "    s.fecha_solicitud,\n",
    "    EXTRACT(HOUR FROM s.hora_solicitud) * 100 + EXTRACT(MINUTE FROM s.hora_solicitud) AS hora_solicitud_id,\n",
    "    es.fecha AS fecha_cierre,\n",
    "    EXTRACT(HOUR FROM es.hora) * 100 + EXTRACT(MINUTE FROM es.hora) AS hora_cierre_id\n",
    "FROM\n",
    "    public.mensajeria_servicio s\n",
    "JOIN\n",
    "    public.mensajeria_estadosservicio es ON s.id = es.servicio_id\n",
    "WHERE\n",
    "    es.estado_id = (SELECT id FROM public.mensajeria_estado WHERE nombre = 'Cerrado')\n",
    "\"\"\""
   ],
   "id": "c565ef7b78dc35d2",
   "outputs": [],
   "execution_count": 9
  },
  {
   "metadata": {},
   "cell_type": "markdown",
   "source": [
    "\n",
    "# Leer los datos desde la base de datos de origen"
   ],
   "id": "bd2e7e0010df5a57"
  },
  {
   "metadata": {
    "ExecuteTime": {
     "end_time": "2024-11-03T15:47:20.290643Z",
     "start_time": "2024-11-03T15:47:20.259788Z"
    }
   },
   "cell_type": "code",
   "source": [
    "df_servicios = pd.read_sql(query_servicios, ryf_conn)\n",
    "\n",
    "df_servicios.head()"
   ],
   "id": "fa61c8245b51d63f",
   "outputs": [
    {
     "data": {
      "text/plain": [
       "Empty DataFrame\n",
       "Columns: [servicio_id, cliente_id, mensajero_id, fecha_solicitud, hora_solicitud_id, fecha_cierre, hora_cierre_id]\n",
       "Index: []"
      ],
      "text/html": [
       "<div>\n",
       "<style scoped>\n",
       "    .dataframe tbody tr th:only-of-type {\n",
       "        vertical-align: middle;\n",
       "    }\n",
       "\n",
       "    .dataframe tbody tr th {\n",
       "        vertical-align: top;\n",
       "    }\n",
       "\n",
       "    .dataframe thead th {\n",
       "        text-align: right;\n",
       "    }\n",
       "</style>\n",
       "<table border=\"1\" class=\"dataframe\">\n",
       "  <thead>\n",
       "    <tr style=\"text-align: right;\">\n",
       "      <th></th>\n",
       "      <th>servicio_id</th>\n",
       "      <th>cliente_id</th>\n",
       "      <th>mensajero_id</th>\n",
       "      <th>fecha_solicitud</th>\n",
       "      <th>hora_solicitud_id</th>\n",
       "      <th>fecha_cierre</th>\n",
       "      <th>hora_cierre_id</th>\n",
       "    </tr>\n",
       "  </thead>\n",
       "  <tbody>\n",
       "  </tbody>\n",
       "</table>\n",
       "</div>"
      ]
     },
     "execution_count": 19,
     "metadata": {},
     "output_type": "execute_result"
    }
   ],
   "execution_count": 19
  },
  {
   "metadata": {},
   "cell_type": "markdown",
   "source": "# Calcular el tiempo de entrega en minutos y preparar datos para insertar",
   "id": "a0c076084f423faa"
  },
  {
   "metadata": {
    "ExecuteTime": {
     "end_time": "2024-11-03T15:42:40.167110Z",
     "start_time": "2024-11-03T15:42:40.153963Z"
    }
   },
   "cell_type": "code",
   "source": [
    "df_servicios['tiempo_entrega_minutos'] = (\n",
    "        (pd.to_datetime(df_servicios['fecha_cierre']) + pd.to_timedelta(df_servicios['hora_cierre_id'], unit='m') -\n",
    "         (pd.to_datetime(df_servicios['fecha_solicitud']) + pd.to_timedelta(df_servicios['hora_solicitud_id'], unit='m'))\n",
    "         ).dt.total_seconds() / 60\n",
    ").astype(int)"
   ],
   "id": "43dc0172931d1f67",
   "outputs": [],
   "execution_count": 11
  },
  {
   "metadata": {},
   "cell_type": "markdown",
   "source": "# Preparar los datos para la carga en la tabla de hechos",
   "id": "41f98820e088b331"
  },
  {
   "metadata": {
    "ExecuteTime": {
     "end_time": "2024-11-03T15:42:42.252702Z",
     "start_time": "2024-11-03T15:42:42.230666Z"
    }
   },
   "cell_type": "code",
   "source": [
    "df_hechos = df_servicios[['servicio_id', 'cliente_id', 'mensajero_id', 'fecha_solicitud',\n",
    "                          'hora_solicitud_id', 'fecha_cierre', 'hora_cierre_id', 'tiempo_entrega_minutos']]\n"
   ],
   "id": "8ce82fad7c48f043",
   "outputs": [],
   "execution_count": 12
  },
  {
   "metadata": {},
   "cell_type": "markdown",
   "source": "# Insertar los datos en la tabla de hechos en la base de datos ETL",
   "id": "ddcbd946a7ffb820"
  },
  {
   "metadata": {
    "ExecuteTime": {
     "end_time": "2024-11-03T15:42:44.051258Z",
     "start_time": "2024-11-03T15:42:44.021418Z"
    }
   },
   "cell_type": "code",
   "source": [
    "df_hechos.to_sql('hechos_servicios_por_fase', etl_conn, if_exists='append', index=False)\n",
    "print(\"Datos insertados en la tabla `hechos_servicios_por_fase`.\")\n"
   ],
   "id": "16d9cc306472ea22",
   "outputs": [
    {
     "name": "stdout",
     "output_type": "stream",
     "text": [
      "Datos insertados en la tabla `hechos_servicios_por_fase`.\n"
     ]
    }
   ],
   "execution_count": 13
  },
  {
   "metadata": {},
   "cell_type": "markdown",
   "source": "# Consulta para calcular el tiempo promedio de entrega",
   "id": "cb44080bb4d3ac7d"
  },
  {
   "metadata": {
    "ExecuteTime": {
     "end_time": "2024-11-03T15:44:47.471984Z",
     "start_time": "2024-11-03T15:44:47.468194Z"
    }
   },
   "cell_type": "code",
   "source": [
    "query_promedio_entrega = \"\"\"\n",
    "SELECT AVG(tiempo_entrega_minutos) AS tiempo_promedio_entrega\n",
    "FROM hechos_servicios_por_fase;\n",
    "\"\"\""
   ],
   "id": "1925339e912c32f8",
   "outputs": [],
   "execution_count": 16
  },
  {
   "metadata": {},
   "cell_type": "markdown",
   "source": "# Ejecutar la consulta y mostrar el resultado",
   "id": "2acfc32c5f253593"
  },
  {
   "metadata": {
    "ExecuteTime": {
     "end_time": "2024-11-03T15:46:24.677547Z",
     "start_time": "2024-11-03T15:46:24.672225Z"
    }
   },
   "cell_type": "code",
   "source": [
    "# Ejecutar la consulta y mostrar el resultado\n",
    "with etl_conn.connect() as conn:\n",
    "    resultado = conn.execute(text(query_promedio_entrega)).fetchone()\n",
    "    tiempo_promedio_entrega = resultado[0]  # Acceder al primer elemento del tuple\n",
    "    print(f\"Tiempo promedio de entrega: {tiempo_promedio_entrega} minutos\")\n"
   ],
   "id": "6d83afb2aaf8ba44",
   "outputs": [
    {
     "name": "stdout",
     "output_type": "stream",
     "text": [
      "Tiempo promedio de entrega: None minutos\n"
     ]
    }
   ],
   "execution_count": 18
  },
  {
   "metadata": {},
   "cell_type": "code",
   "outputs": [],
   "execution_count": null,
   "source": "",
   "id": "e9718c48a5e58242"
  }
 ],
 "metadata": {
  "kernelspec": {
   "display_name": "Python 3",
   "language": "python",
   "name": "python3"
  },
  "language_info": {
   "codemirror_mode": {
    "name": "ipython",
    "version": 2
   },
   "file_extension": ".py",
   "mimetype": "text/x-python",
   "name": "python",
   "nbconvert_exporter": "python",
   "pygments_lexer": "ipython2",
   "version": "2.7.6"
  }
 },
 "nbformat": 4,
 "nbformat_minor": 5
}
