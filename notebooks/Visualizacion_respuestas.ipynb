{
 "cells": [
  {
   "metadata": {},
   "cell_type": "markdown",
   "source": "# # Visualización de respuestas",
   "id": "38ba618399493f3"
  },
  {
   "metadata": {},
   "cell_type": "markdown",
   "source": "Importaciones",
   "id": "6258942faaf23edd"
  },
  {
   "cell_type": "code",
   "id": "initial_id",
   "metadata": {
    "collapsed": true,
    "ExecuteTime": {
     "end_time": "2024-11-08T17:03:32.120450Z",
     "start_time": "2024-11-08T17:03:27.929085Z"
    }
   },
   "source": [
    "import pandas as pd\n",
    "from sqlalchemy import create_engine\n",
    "import yaml"
   ],
   "outputs": [],
   "execution_count": 1
  },
  {
   "metadata": {},
   "cell_type": "markdown",
   "source": "",
   "id": "d15de4110df71b23"
  },
  {
   "metadata": {},
   "cell_type": "markdown",
   "source": "Conexión a la base de datos",
   "id": "a73d3a9d224a0a16"
  },
  {
   "metadata": {
    "ExecuteTime": {
     "end_time": "2024-11-08T17:03:32.348676Z",
     "start_time": "2024-11-08T17:03:32.121959Z"
    }
   },
   "cell_type": "code",
   "source": [
    "with open('../config.yml', 'r') as f:\n",
    "    config = yaml.safe_load(f)\n",
    "    config_ryf = config['RAPIDOS-Y_FURIOSOS']\n",
    "    config_etl = config['ETL_RYF']\n",
    "\n",
    "# Construir la URL de conexión para cada base de datos\n",
    "url_ryf = (f\"{config_ryf['drivername']}://{config_ryf['user']}:{config_ryf['password']}@\"\n",
    "           f\"{config_ryf['host']}:{config_ryf['port']}/{config_ryf['dbname']}\")\n",
    "\n",
    "url_etl = (f\"{config_etl['drivername']}://{config_etl['user']}:{config_etl['password']}@\"\n",
    "           f\"{config_etl['host']}:{config_etl['port']}/{config_etl['dbname']}\")\n",
    "\n",
    "# Crear el Engine de SQLAlchemy para ambas conexiones\n",
    "ryf_conn = create_engine(url_ryf)\n",
    "etl_conn = create_engine(url_etl)"
   ],
   "id": "f24c867ece75a0f4",
   "outputs": [],
   "execution_count": 2
  },
  {
   "metadata": {},
   "cell_type": "markdown",
   "source": "Cargar las tablas de hechos del etl",
   "id": "be933bf7ef0259b9"
  },
  {
   "metadata": {
    "ExecuteTime": {
     "end_time": "2024-11-08T17:03:33.398368Z",
     "start_time": "2024-11-08T17:03:32.348676Z"
    }
   },
   "cell_type": "code",
   "source": [
    "df_hecho_novedades = pd.read_sql_table('hecho_novedades', etl_conn)\n",
    "df_hecho_acumulating_servicios = pd.read_sql_table('hecho_acumulating_servicios', etl_conn)\n",
    "df_hecho_servicios_dia = pd.read_sql_table('hecho_servicios_dia', etl_conn)\n",
    "df_hecho_servicios_hora = pd.read_sql_table('hecho_servicios_hora', etl_conn)"
   ],
   "id": "42e980a239b01d79",
   "outputs": [],
   "execution_count": 3
  },
  {
   "metadata": {},
   "cell_type": "markdown",
   "source": "Cargar las tablas de dimensiones del etl",
   "id": "43d055a5296360f8"
  },
  {
   "metadata": {
    "ExecuteTime": {
     "end_time": "2024-11-08T17:03:33.666848Z",
     "start_time": "2024-11-08T17:03:33.401327Z"
    }
   },
   "cell_type": "code",
   "source": [
    "df_dim_cliente = pd.read_sql_table('dim_cliente', etl_conn)\n",
    "df_dim_fecha = pd.read_sql_table('dim_fecha', etl_conn)\n",
    "df_dim_hora = pd.read_sql_table('dim_hora', etl_conn)\n",
    "df_dim_mensajero = pd.read_sql_table('dim_mensajero', etl_conn)\n",
    "df_dim_novedad = pd.read_sql_table('dim_novedad', etl_conn)\n",
    "df_dim_sede = pd.read_sql_table('dim_sede', etl_conn)"
   ],
   "id": "65d829443f06900e",
   "outputs": [],
   "execution_count": 4
  },
  {
   "metadata": {},
   "cell_type": "markdown",
   "source": "# Verificar la cantidad de registros en las tablas de hechos",
   "id": "55967f8dc418f5d8"
  },
  {
   "metadata": {
    "ExecuteTime": {
     "end_time": "2024-11-07T21:45:28.242810Z",
     "start_time": "2024-11-07T21:45:28.233830Z"
    }
   },
   "cell_type": "code",
   "source": [
    "print('Fact Tables')\n",
    "print('Hecho Novedades:', df_hecho_novedades.shape[0])\n",
    "print('Hecho Acumulating Servicios:', df_hecho_acumulating_servicios.shape[0])\n",
    "print('Hecho Servicios Dia:', df_hecho_servicios_dia.shape[0])\n",
    "num_servicios_hora = df_hecho_servicios_hora['numero_servicios'].sum()\n",
    "print('Hecho Servicios Hora:', num_servicios_hora)\n",
    "num_servicios_dia = df_hecho_servicios_dia['numero_servicios'].sum()\n",
    "print('Hecho Servicios Dia:', num_servicios_dia, '\\n')"
   ],
   "id": "f833eb08a028ee9a",
   "outputs": [
    {
     "name": "stdout",
     "output_type": "stream",
     "text": [
      "Fact Tables\n",
      "Hecho Novedades: 5208\n",
      "Hecho Acumulating Servicios: 26365\n",
      "Hecho Servicios Dia: 250\n",
      "Hecho Servicios Hora: 26365\n",
      "Hecho Servicios Dia: 26365 \n",
      "\n"
     ]
    }
   ],
   "execution_count": 38
  },
  {
   "metadata": {},
   "cell_type": "markdown",
   "source": "# 1) En qué meses del año los clientes solicitan más servicios de mensajería",
   "id": "1701be8a9be329b8"
  },
  {
   "metadata": {
    "ExecuteTime": {
     "end_time": "2024-11-07T21:45:33.682659Z",
     "start_time": "2024-11-07T21:45:33.667231Z"
    }
   },
   "cell_type": "code",
   "source": [
    "print('Meses con más solicitudes de servicios de mensajería')\n",
    "response_1 = df_hecho_servicios_dia.sort_values(by='numero_servicios', ascending=False)\n",
    "response_1 = response_1.merge(\n",
    "    df_dim_fecha,\n",
    "    left_on='key_dim_fecha_solicitud',\n",
    "    right_on='key_dim_fecha')[['nombre_mes', 'mes', 'numero_servicios']]\n",
    "response_1 = response_1.groupby(['nombre_mes', 'mes']).sum().sort_values(by='numero_servicios', ascending=False)\n",
    "print(response_1, '\\n')"
   ],
   "id": "f12024e40b4699e0",
   "outputs": [
    {
     "name": "stdout",
     "output_type": "stream",
     "text": [
      "Meses con más solicitudes de servicios de mensajería\n",
      "                numero_servicios\n",
      "nombre_mes mes                  \n",
      "May        5                4409\n",
      "July       7                4298\n",
      "April      4                4095\n",
      "August     8                4083\n",
      "June       6                3896\n",
      "March      3                3073\n",
      "February   2                2201\n",
      "January    1                 262\n",
      "December   12                 22\n",
      "September  9                  13\n",
      "November   11                  8\n",
      "October    10                  5 \n",
      "\n"
     ]
    }
   ],
   "execution_count": 39
  },
  {
   "metadata": {},
   "cell_type": "markdown",
   "source": "",
   "id": "615c2ebc61dff326"
  },
  {
   "metadata": {},
   "cell_type": "markdown",
   "source": "# 2) ¿Cuáles son los días dónde más solicitudes hay?",
   "id": "5195303c894f377b"
  },
  {
   "metadata": {
    "ExecuteTime": {
     "end_time": "2024-11-07T21:45:37.914742Z",
     "start_time": "2024-11-07T21:45:37.903192Z"
    }
   },
   "cell_type": "code",
   "source": [
    "print('Días con más solicitudes de servicios de mensajería')\n",
    "response_2 = df_hecho_servicios_dia.sort_values(by='numero_servicios', ascending=False)\n",
    "response_2 = response_2.merge(\n",
    "    df_dim_fecha,\n",
    "    left_on='key_dim_fecha_solicitud',\n",
    "    right_on='key_dim_fecha')[['numero_servicios', 'dia', 'nombre_dia']]\n",
    "print(response_2, '\\n')\n"
   ],
   "id": "8f68536ec938a4a0",
   "outputs": [
    {
     "name": "stdout",
     "output_type": "stream",
     "text": [
      "Días con más solicitudes de servicios de mensajería\n",
      "     numero_servicios  dia nombre_dia\n",
      "0                 230   14    Tuesday\n",
      "1                 216   26     Monday\n",
      "2                 213   17     Friday\n",
      "3                 212   30     Friday\n",
      "4                 207   21    Tuesday\n",
      "..                ...  ...        ...\n",
      "245                 1   23     Monday\n",
      "246                 1   20     Friday\n",
      "247                 1   13     Friday\n",
      "248                 1    3    Tuesday\n",
      "249                 1   26    Tuesday\n",
      "\n",
      "[250 rows x 3 columns] \n",
      "\n"
     ]
    }
   ],
   "execution_count": 40
  },
  {
   "metadata": {},
   "cell_type": "markdown",
   "source": "# 3) ¿A qué hora los mensajeros están más ocupados?",
   "id": "b7abe1027e9617db"
  },
  {
   "metadata": {
    "ExecuteTime": {
     "end_time": "2024-11-07T21:45:39.351980Z",
     "start_time": "2024-11-07T21:45:39.340771Z"
    }
   },
   "cell_type": "code",
   "source": [
    "print('Horas con más solicitudes de servicios de mensajería')\n",
    "response_3 = df_hecho_servicios_hora.sort_values(by='numero_servicios', ascending=False)\n",
    "response_3 = response_3.merge(\n",
    "    df_dim_hora,\n",
    "    left_on='key_dim_hora_solicitud',\n",
    "    right_on='key_dim_hora')[['hora', 'numero_servicios']]\n",
    "print(response_3, '\\n')"
   ],
   "id": "e9789cad35488ed5",
   "outputs": [
    {
     "name": "stdout",
     "output_type": "stream",
     "text": [
      "Horas con más solicitudes de servicios de mensajería\n",
      "   hora  numero_servicios\n",
      "0    09              3184\n",
      "1    11              3086\n",
      "2    10              2735\n",
      "3    08              2474\n",
      "4    15              2405\n",
      "5    14              2369\n",
      "6    16              1875\n",
      "7    12              1604\n",
      "8    13              1382\n",
      "9    17              1226\n",
      "10   07              1001\n",
      "11   06               873\n",
      "12   18               404\n",
      "13   19               318\n",
      "14   20               208\n",
      "15   21               163\n",
      "16   01               156\n",
      "17   23               151\n",
      "18   02               147\n",
      "19   22               140\n",
      "20   00               135\n",
      "21   05               128\n",
      "22   03               102\n",
      "23   04                99 \n",
      "\n"
     ]
    }
   ],
   "execution_count": 41
  },
  {
   "metadata": {},
   "cell_type": "markdown",
   "source": "# 4) ¿Cuántos servicios ha solicitado cada cliente por mes?",
   "id": "20619c1eed2a3ba8"
  },
  {
   "metadata": {
    "ExecuteTime": {
     "end_time": "2024-11-07T21:45:44.128504Z",
     "start_time": "2024-11-07T21:45:44.070814Z"
    }
   },
   "cell_type": "code",
   "source": [
    "print('Número de servicios solicitados por cliente y por mes')\n",
    "response_4 = df_hecho_acumulating_servicios.merge(\n",
    "    df_dim_cliente,\n",
    "    left_on='key_dim_cliente',\n",
    "    right_on='key_dim_cliente').merge(\n",
    "    df_dim_fecha,\n",
    "    left_on='key_dim_fecha_solicitud',\n",
    "    right_on='key_dim_fecha')\n",
    "\n",
    "response_4 = response_4.groupby(['cliente_id', 'nombre', 'nombre_mes']).size().reset_index(name='numero_servicios')\n",
    "print(response_4, '\\n')\n"
   ],
   "id": "e5f8f1119e355509",
   "outputs": [
    {
     "name": "stdout",
     "output_type": "stream",
     "text": [
      "Número de servicios solicitados por cliente y por mes\n",
      "     cliente_id             nombre nombre_mes  numero_servicios\n",
      "0             2          Cliente 1      April                 1\n",
      "1             2          Cliente 1   February                 4\n",
      "2             2          Cliente 1    January                 1\n",
      "3             2          Cliente 1       June                 1\n",
      "4             2          Cliente 1      March                 2\n",
      "..          ...                ...        ...               ...\n",
      "98           25  CALI SULUD Y VIDA       July               169\n",
      "99           25  CALI SULUD Y VIDA       June               147\n",
      "100          25  CALI SULUD Y VIDA      March               114\n",
      "101          25  CALI SULUD Y VIDA        May               150\n",
      "102          27    MEDICOS Y SALUD     August                 1\n",
      "\n",
      "[103 rows x 4 columns] \n",
      "\n"
     ]
    }
   ],
   "execution_count": 42
  },
  {
   "metadata": {},
   "cell_type": "markdown",
   "source": "# 5) Mensajeros más eficientes (Los que más servicios prestan)",
   "id": "ddcab499f93df66f"
  },
  {
   "metadata": {
    "ExecuteTime": {
     "end_time": "2024-11-07T21:45:47.279734Z",
     "start_time": "2024-11-07T21:45:47.251932Z"
    }
   },
   "cell_type": "code",
   "source": [
    "print('Mensajeros más eficientes')\n",
    "response_5 = df_hecho_acumulating_servicios.merge(\n",
    "    df_dim_mensajero,\n",
    "    left_on='key_dim_mensajero',\n",
    "    right_on='key_dim_mensajero').groupby(['mensajero_id', 'username']).size().reset_index(name='numero_servicios')\n",
    "response_5 = response_5.sort_values(by='numero_servicios', ascending=False)\n",
    "print(response_5, '\\n')\n"
   ],
   "id": "bd3f2254d7db15ea",
   "outputs": [
    {
     "name": "stdout",
     "output_type": "stream",
     "text": [
      "Mensajeros más eficientes\n",
      "    mensajero_id           username  numero_servicios\n",
      "22            30        JHONTROCHEZ              2402\n",
      "21            29    Sebastian Acuña              1438\n",
      "9             15        Juan Solano              1425\n",
      "18            25    ANDRESGUTIERREZ              1392\n",
      "10            16         Jan Sastre              1303\n",
      "23            31     Hector Aquiles              1271\n",
      "32            41        LUISCARDONA              1269\n",
      "33            42           JPEDROZA              1214\n",
      "15            22      Jairon Montes              1191\n",
      "20            28          JHONMUÑOZ              1159\n",
      "6             11  Carlos Valderrama              1055\n",
      "19            27  ALEXANDERMOSQUERA              1027\n",
      "4              8        Luis Castro               957\n",
      "12            18     Nicolas Maduro               911\n",
      "0              3         Biil-Gates               833\n",
      "35            44           RVALLEJO               813\n",
      "26            34       VICTORARARAT               700\n",
      "24            32     CARLOSGONZALEZ               695\n",
      "36            45           BMAYORGA               644\n",
      "1              4       Lionel_messi               585\n",
      "29            38       YESYDVINASCO               563\n",
      "27            36            LUISGIL               558\n",
      "17            24        JOELVILLADA               547\n",
      "7             12  Faustino Asprilla               410\n",
      "39            48   JULIANVILLANUEVA               372\n",
      "2              5    James Rodriguez               178\n",
      "16            23    Andrea Guerrero               169\n",
      "38            47            HVARGAS               161\n",
      "31            40       ESTEBANMUÑOZ               137\n",
      "13            19   Bladimir Padrino               122\n",
      "40            49           JSANCHEZ               111\n",
      "25            33     JONATANMANZANO               108\n",
      "37            46           YBOLANOS               106\n",
      "41            83      DANIELMAZUERA                90\n",
      "11            17        ALEXISLASSO                82\n",
      "14            21     Vladimir Putin                78\n",
      "30            39      JORGEMOSQUERA                74\n",
      "34            43           ADELGADO                68\n",
      "28            37      HENRYCARABALI                60\n",
      "3              7              admin                45\n",
      "8             13   GEOVANNY Hidalgo                30\n",
      "5              9     DIEGO Maradona                11\n",
      "42            84      WILSONMORALES                 1 \n",
      "\n"
     ]
    }
   ],
   "execution_count": 43
  },
  {
   "metadata": {},
   "cell_type": "markdown",
   "source": "# 6) ¿Cuáles son las sedes que más servicios solicitan por cada cliente?",
   "id": "7abc2bfe50b2348c"
  },
  {
   "metadata": {
    "ExecuteTime": {
     "end_time": "2024-11-07T21:45:49.792922Z",
     "start_time": "2024-11-07T21:45:49.743321Z"
    }
   },
   "cell_type": "code",
   "source": [
    "print('Sedes que más servicios solicitan por cada cliente')\n",
    "response_6 = df_hecho_acumulating_servicios.merge(\n",
    "    df_dim_sede,\n",
    "    left_on='key_dim_sede',\n",
    "    right_on='key_dim_sede').merge(\n",
    "    df_dim_cliente,\n",
    "    left_on='key_dim_cliente',\n",
    "    right_on='key_dim_cliente').groupby(['cliente_id', 'nombre', 'sede_id', 'sede_nombre']).size().reset_index(name='numero_servicios')\n",
    "response_6 = response_6.sort_values(by=['cliente_id', 'numero_servicios'], ascending=False)\n",
    "print(response_6, '\\n')"
   ],
   "id": "d7883353ebf22a63",
   "outputs": [
    {
     "name": "stdout",
     "output_type": "stream",
     "text": [
      "Sedes que más servicios solicitan por cada cliente\n",
      "    cliente_id                                   nombre  sede_id  \\\n",
      "40          27                          MEDICOS Y SALUD       85   \n",
      "39          25                        CALI SULUD Y VIDA       45   \n",
      "38          25                        CALI SULUD Y VIDA       44   \n",
      "37          24          CLINICA SAN RAFAEL DE OCCIDENTE       46   \n",
      "36          22  FUNDACION CLINICA INFANTIL LOS GRITONES       51   \n",
      "34          12                  CLINICA DEL SUR DE CALI       32   \n",
      "35          12                  CLINICA DEL SUR DE CALI       48   \n",
      "19          11             CARROS DEL  PACIFICO (CHINA)       15   \n",
      "21          11             CARROS DEL  PACIFICO (CHINA)       17   \n",
      "30          11             CARROS DEL  PACIFICO (CHINA)       26   \n",
      "20          11             CARROS DEL  PACIFICO (CHINA)       16   \n",
      "22          11             CARROS DEL  PACIFICO (CHINA)       18   \n",
      "31          11             CARROS DEL  PACIFICO (CHINA)       33   \n",
      "32          11             CARROS DEL  PACIFICO (CHINA)       34   \n",
      "24          11             CARROS DEL  PACIFICO (CHINA)       20   \n",
      "26          11             CARROS DEL  PACIFICO (CHINA)       22   \n",
      "27          11             CARROS DEL  PACIFICO (CHINA)       23   \n",
      "33          11             CARROS DEL  PACIFICO (CHINA)       35   \n",
      "29          11             CARROS DEL  PACIFICO (CHINA)       25   \n",
      "25          11             CARROS DEL  PACIFICO (CHINA)       21   \n",
      "23          11             CARROS DEL  PACIFICO (CHINA)       19   \n",
      "28          11             CARROS DEL  PACIFICO (CHINA)       24   \n",
      "18           9               UNIDAD DE TRAUMA DEL OESTE       40   \n",
      "16           8              CLINICA NEFROLOGOS  DE CALI       37   \n",
      "17           8              CLINICA NEFROLOGOS  DE CALI       52   \n",
      "14           7                    CLINICA COFFE -HEALTH       42   \n",
      "13           7                    CLINICA COFFE -HEALTH       31   \n",
      "15           7                    CLINICA COFFE -HEALTH       47   \n",
      "12           6               CLINICA  DEPORTIVA DEL SUR       36   \n",
      "11           5                      CLINICA CALI -JOVEN        8   \n",
      "10           5                      CLINICA CALI -JOVEN        7   \n",
      "9            5                      CLINICA CALI -JOVEN        6   \n",
      "8            5                      CLINICA CALI -JOVEN        5   \n",
      "6            5                      CLINICA CALI -JOVEN        3   \n",
      "7            5                      CLINICA CALI -JOVEN        4   \n",
      "5            5                      CLINICA CALI -JOVEN        2   \n",
      "3            4                           CRUZ AZUL-LIFE       11   \n",
      "2            4                           CRUZ AZUL-LIFE       10   \n",
      "4            4                           CRUZ AZUL-LIFE       14   \n",
      "1            3      BANCO REGIONAL  DE SANGRE BLOD-LIFE       38   \n",
      "0            2                                Cliente 1        2   \n",
      "\n",
      "                         sede_nombre  numero_servicios  \n",
      "40                             CIMEX                 1  \n",
      "39                          CAMBULOS               478  \n",
      "38                       VALLE NORTE               474  \n",
      "37                     SAN BER NANDO                25  \n",
      "36                         CLUB NOEL                57  \n",
      "34                   CLINICA FABILUX               995  \n",
      "35              BATALLON DISPENSARIO               337  \n",
      "19  PRINCIPAL NORTE / CHINA PACIFICO              6299  \n",
      "21                BUSES Y CAMIONES -              4984  \n",
      "30            PALMIRA BODEGA 20  /                1591  \n",
      "20       MEGATALLER / CHINA PACIFICO              1144  \n",
      "22                            FORCAS               523  \n",
      "31                FORDES PASOANCHOS                369  \n",
      "32                         AUTOPISTA               359  \n",
      "24                FORD CAÑAS FLASCAS               264  \n",
      "26                 TULUA BODEGA 26 /               179  \n",
      "27             POPAYAN BODEGA 28 / A                87  \n",
      "33                            JMC /                 66  \n",
      "29                  PASTO BODEGA 29/                35  \n",
      "25                    BUGA BODEGA 24                29  \n",
      "23                         HYUNDAI /                11  \n",
      "28                  PASTO VITRINA /                  3  \n",
      "18                    TRAUMA ORIENTE               619  \n",
      "16                             HEMAS               249  \n",
      "17                      NUEVA HEMATO                23  \n",
      "14                      CLINICA CALI              1267  \n",
      "13                        CRISTO REY               822  \n",
      "15                      CLINICA CALI                50  \n",
      "12                     PRINCIPAL /14               276  \n",
      "11             PRINCIPAL / OCCIDENTE               940  \n",
      "10                     VILLACOLOMBIA               856  \n",
      "9                          CAPITOLIO               740  \n",
      "8                       VASQUEZ COBO               667  \n",
      "6                TORRES DE MARACAIBO               646  \n",
      "7                            INGENIO               567  \n",
      "5               sede aux - cliente 1                42  \n",
      "3                      REMEDIOZ/ 123                75  \n",
      "2                    FARALLONES /123                28  \n",
      "4              DESPACHOS / LOS ROJOS                 4  \n",
      "1                           HEMOLIFE               174  \n",
      "0               sede aux - cliente 1                10   \n",
      "\n"
     ]
    }
   ],
   "execution_count": 44
  },
  {
   "metadata": {},
   "cell_type": "markdown",
   "source": "# 7) ¿Cuál es el tiempo promedio de entrega desde que se solicita el servicio hasta que se cierra el caso?",
   "id": "2d64d9124ea6f8cd"
  },
  {
   "metadata": {
    "ExecuteTime": {
     "end_time": "2024-11-07T21:45:51.628979Z",
     "start_time": "2024-11-07T21:45:51.616583Z"
    }
   },
   "cell_type": "code",
   "source": [
    "print('Tiempo promedio de entrega \\n')\n",
    "# make average of total_tiempo_minutos and total_tiempo_horas\n",
    "response_7 = df_hecho_acumulating_servicios\n",
    "avg_tiempo_minutos = round(response_7['total_tiempo_minutos'].mean(), 2)\n",
    "avg_tiempo_horas = round(response_7['total_tiempo_horas'].mean(), 2)\n",
    "print('Tiempo promedio en minutos:', avg_tiempo_minutos)\n",
    "print('Tiempo promedio en horas:', avg_tiempo_horas, '\\n')"
   ],
   "id": "c4785b3d0ed38f12",
   "outputs": [
    {
     "name": "stdout",
     "output_type": "stream",
     "text": [
      "Tiempo promedio de entrega \n",
      "\n",
      "Tiempo promedio en minutos: 404.42\n",
      "Tiempo promedio en horas: 6.74 \n",
      "\n"
     ]
    }
   ],
   "execution_count": 45
  },
  {
   "metadata": {},
   "cell_type": "markdown",
   "source": "# 8) Mostrar los tiempos de espera por cada fase del servicio: Iniciado, Con mensajero asignado, recogido en origen, Entregado en Destino, Cerrado. En que fase del servicio hay más demoras?",
   "id": "d7d9f6ae92de1ded"
  },
  {
   "metadata": {
    "ExecuteTime": {
     "end_time": "2024-11-07T21:45:53.433352Z",
     "start_time": "2024-11-07T21:45:53.413718Z"
    }
   },
   "cell_type": "code",
   "source": [
    "print('Tiempo de espera promedio por cada fase del servicio')\n",
    "response_8 = df_hecho_acumulating_servicios\n",
    "\n",
    "def get_avg_time(df, column):\n",
    "    return round(df[column].mean(), 2)\n",
    "\n",
    "response_8_mins = {\n",
    "    'Asignacion minutos': get_avg_time(response_8, 'tiempo_minutos_asignacion'),\n",
    "    'Recogido minutos': get_avg_time(response_8, 'tiempo_minutos_recogida'),\n",
    "    'Entregado minutos': get_avg_time(response_8, 'tiempo_minutos_entrega'),\n",
    "    'Cerrado minutos': get_avg_time(response_8, 'tiempo_minutos_cerrado'),\n",
    "}\n",
    "\n",
    "response_8_hours = {\n",
    "    'Asignacion horas': get_avg_time(response_8, 'tiempo_horas_asignacion'),\n",
    "    'Recogido horas': get_avg_time(response_8, 'tiempo_horas_recogida'),\n",
    "    'Entregado horas': get_avg_time(response_8, 'tiempo_horas_entrega'),\n",
    "    'Cerrado horas': get_avg_time(response_8, 'tiempo_horas_cerrado')\n",
    "}\n",
    "\n",
    "for key, value in response_8_mins.items():\n",
    "    print(key, value)\n",
    "for key, value in response_8_hours.items():\n",
    "    print(key, value)\n",
    "# get the max value\n",
    "max_value_mins = max(response_8_mins, key=response_8_mins.get)\n",
    "max_value_hours = max(response_8_hours, key=response_8_hours.get)\n",
    "print('Fase con más demoras en minutos:', max_value_mins, \" Tiempo: \", response_8_mins[max_value_mins])\n",
    "print('Fase con más demoras en horas:', max_value_hours, \" Tiempo: \", response_8_hours[max_value_hours])"
   ],
   "id": "bb21fade1a3b17bd",
   "outputs": [
    {
     "name": "stdout",
     "output_type": "stream",
     "text": [
      "Tiempo de espera promedio por cada fase del servicio\n",
      "Asignacion minutos 147.41\n",
      "Recogido minutos 85.76\n",
      "Entregado minutos 87.11\n",
      "Cerrado minutos 84.15\n",
      "Asignacion horas 2.46\n",
      "Recogido horas 1.43\n",
      "Entregado horas 1.45\n",
      "Cerrado horas 1.4\n",
      "Fase con más demoras en minutos: Asignacion minutos  Tiempo:  147.41\n",
      "Fase con más demoras en horas: Asignacion horas  Tiempo:  2.46\n"
     ]
    }
   ],
   "execution_count": 46
  },
  {
   "metadata": {},
   "cell_type": "markdown",
   "source": "# 9) ¿Cuáles son las novedades que más se presentan durante la prestación del servicio?",
   "id": "d303ac7f71fba305"
  },
  {
   "metadata": {
    "ExecuteTime": {
     "end_time": "2024-11-07T21:46:29.177647Z",
     "start_time": "2024-11-07T21:46:29.161537Z"
    }
   },
   "cell_type": "code",
   "source": [
    "print('Novedades que más se presentan durante la prestación del servicio')\n",
    "response_9 = df_hecho_novedades.merge(\n",
    "    df_dim_novedad,\n",
    "    left_on='key_dim_novedad',\n",
    "    right_on='key_dim_novedad').groupby(['tipo_novedad']).size().reset_index(name='numero_novedades')\n",
    "response_9 = response_9.sort_values(by='numero_novedades', ascending=False)\n",
    "print(response_9, '\\n')"
   ],
   "id": "88bcaf91f9863fb9",
   "outputs": [
    {
     "name": "stdout",
     "output_type": "stream",
     "text": [
      "Novedades que más se presentan durante la prestación del servicio\n",
      "             tipo_novedad  numero_novedades\n",
      "1  Novedades del servicio              3892\n",
      "0      No puedo continuar              1316 \n",
      "\n"
     ]
    }
   ],
   "execution_count": 48
  },
  {
   "metadata": {},
   "cell_type": "code",
   "outputs": [],
   "execution_count": null,
   "source": "",
   "id": "a600aa7af0736752"
  }
 ],
 "metadata": {
  "kernelspec": {
   "display_name": "Python 3",
   "language": "python",
   "name": "python3"
  },
  "language_info": {
   "codemirror_mode": {
    "name": "ipython",
    "version": 2
   },
   "file_extension": ".py",
   "mimetype": "text/x-python",
   "name": "python",
   "nbconvert_exporter": "python",
   "pygments_lexer": "ipython2",
   "version": "2.7.6"
  }
 },
 "nbformat": 4,
 "nbformat_minor": 5
}
