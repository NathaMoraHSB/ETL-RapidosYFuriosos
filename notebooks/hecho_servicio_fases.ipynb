{
 "cells": [
  {
   "cell_type": "markdown",
   "id": "547b0c8bcab2306b",
   "metadata": {},
   "source": [
    "# Hecho de servicio por fases"
   ]
  },
  {
   "cell_type": "code",
   "execution_count": 1,
   "id": "9e98a397a495f4d",
   "metadata": {
    "ExecuteTime": {
     "end_time": "2024-10-21T22:32:36.531762Z",
     "start_time": "2024-10-21T22:32:35.756371Z"
    }
   },
   "outputs": [
    {
     "ename": "ModuleNotFoundError",
     "evalue": "No module named 'numpy'",
     "output_type": "error",
     "traceback": [
      "\u001b[1;31m---------------------------------------------------------------------------\u001b[0m",
      "\u001b[1;31mModuleNotFoundError\u001b[0m                       Traceback (most recent call last)",
      "Cell \u001b[1;32mIn[1], line 2\u001b[0m\n\u001b[0;32m      1\u001b[0m \u001b[38;5;28;01mimport\u001b[39;00m \u001b[38;5;21;01mdatetime\u001b[39;00m\n\u001b[1;32m----> 2\u001b[0m \u001b[38;5;28;01mimport\u001b[39;00m \u001b[38;5;21;01mnumpy\u001b[39;00m \u001b[38;5;28;01mas\u001b[39;00m \u001b[38;5;21;01mnp\u001b[39;00m\n\u001b[0;32m      3\u001b[0m \u001b[38;5;28;01mimport\u001b[39;00m \u001b[38;5;21;01mpandas\u001b[39;00m \u001b[38;5;28;01mas\u001b[39;00m \u001b[38;5;21;01mpd\u001b[39;00m\n\u001b[0;32m      4\u001b[0m \u001b[38;5;28;01mimport\u001b[39;00m \u001b[38;5;21;01myaml\u001b[39;00m\n",
      "\u001b[1;31mModuleNotFoundError\u001b[0m: No module named 'numpy'"
     ]
    }
   ],
   "source": [
    "import datetime\n",
    "import numpy as np\n",
    "import pandas as pd\n",
    "import yaml\n",
    "from sqlalchemy import create_engine"
   ]
  },
  {
   "cell_type": "code",
   "execution_count": null,
   "id": "0a93cad4",
   "metadata": {},
   "outputs": [],
   "source": [
    "# Definir las fases del servicio\n",
    "fases = [\n",
    "    'Iniciado',\n",
    "    'Con mensajero asignado',\n",
    "    'Recogido en origen',\n",
    "    'Entregado en destino',\n",
    "    'Cerrado'\n",
    "]"
   ]
  },
  {
   "cell_type": "markdown",
   "id": "825e77e3ac131d49",
   "metadata": {},
   "source": [
    "# Añadir conexión a la base de datos"
   ]
  },
  {
   "cell_type": "code",
   "execution_count": null,
   "id": "ff843277ad6fe4e3",
   "metadata": {
    "ExecuteTime": {
     "end_time": "2024-10-21T22:33:01.602345Z",
     "start_time": "2024-10-21T22:33:01.538105Z"
    }
   },
   "outputs": [],
   "source": [
    "with open('../config.yml', 'r') as f: \n",
    "    config = yaml.safe_load(f)\n",
    "    config_ryf = config['RAPIDOS-Y_FURIOSOS']\n",
    "    config_etl = config['ETL_RYF']\n",
    "\n",
    "\n",
    "url_ryf = (f\"{config_ryf['drivername']}://{config_ryf['user']}:{config_ryf['password']}@\"\n",
    "           f\"{config_ryf['host']}:{config_ryf['port']}/{config_ryf['dbname']}\")\n",
    "\n",
    "url_etl = (f\"{config_etl['drivername']}://{config_etl['user']}:{config_etl['password']}@\"\n",
    "           f\"{config_etl['host']}:{config_etl['port']}/{config_etl['dbname']}\")\n",
    "\n",
    "\n",
    "ryf_conn = create_engine(url_ryf)\n",
    "etl_conn = create_engine(url_etl)\n",
    "\n",
    "# Consultar datos de servicios y fases\n",
    "query_servicios = \"SELECT id_servicio, fecha_inicio, fecha_fin, estado FROM servicios\"\n",
    "query_fases = \"SELECT id_fase, id_servicio, fase FROM fases\"\n",
    "\n",
    "# Leer los datos en DataFrames de pandas\n",
    "df_servicios = pd.read_sql(query_servicios, ryf_conn)\n",
    "df_fases = pd.read_sql(query_fases, ryf_conn"
   ]
  },
  {
   "cell_type": "code",
   "execution_count": null,
   "id": "a5fc0921",
   "metadata": {},
   "outputs": [],
   "source": [
    "#Calculo de las fases\n",
    "\n",
    "tiempos_espera = pd.DataFrame(columns=['fase', 'tiempo_espera'])\n",
    "\n",
    "# Calcular tiempos de espera por fase\n",
    "for i in range(len(fases) - 1):\n",
    "    fase_actual = fases[i]\n",
    "    fase_siguiente = fases[i + 1]\n",
    "    \n",
    "    # Filtrar los servicios en la fase actual\n",
    "    df_fase_actual = tabla_hechos_final[tabla_hechos_final['fase'] == fase_actual]\n",
    "\n",
    "    # Calcular el tiempo de espera\n",
    "    if not df_fase_actual.empty:\n",
    "        tiempo_espera = (df_fase_actual['fecha_inicio'].shift(-1) - df_fase_actual['fecha_fin']).dt.days\n",
    "        tiempo_espera = tiempo_espera[timer_espera > 0]  # Considerar solo tiempos positivos\n",
    "\n",
    "        # Agregar el resultado al DataFrame de tiempos de espera\n",
    "        tiempos_espera = tiempos_espera.append({'fase': fase_actual, 'tiempo_espera': tiempo_espera.mean()}, ignore_index=True)\n",
    "\n",
    "# Agregar la última fase (Cerrado) con el tiempo de fin\n",
    "df_cerrado = tabla_hechos_final[tabla_hechos_final['fase'] == 'Cerrado']\n",
    "tiempo_cerrado = (df_cerrado['fecha_fin'] - df_cerrado['fecha_inicio']).dt.days.mean()\n",
    "tiempos_espera = tiempos_espera.append({'fase': 'Cerrado', 'tiempo_espera': tiempo_cerrado}, ignore_index=True)"
   ]
  },
  {
   "cell_type": "markdown",
   "id": "ac55d148",
   "metadata": {},
   "source": [
    "Extracción y procesamiento"
   ]
  },
  {
   "cell_type": "code",
   "execution_count": null,
   "id": "5be0ff16",
   "metadata": {},
   "outputs": [],
   "source": [
    "df_servicios['fecha_inicio'] = pd.to_datetime(df_servicios['fecha_inicio'])\n",
    "df_servicios['fecha_fin'] = pd.to_datetime(df_servicios['fecha_fin'])\n",
    "\n",
    "df_servicios['duracion'] = (df_servicios['fecha_fin'] - df_servicios['fecha_inicio']).dt.days\n",
    "\n",
    "# Unir los DataFrames para crear la tabla de hechos\n",
    "tabla_hechos = df_fases.merge(df_servicios, on='id_servicio', how='inner')\n",
    "\n",
    "tabla_hechos_final = tabla_hechos[['id_servicio', 'id_fase', 'fecha_inicio', 'fecha_fin', 'duracion', 'estado']]\n",
    "tabla_hechos_final"
   ]
  },
  {
   "cell_type": "markdown",
   "id": "acac8d03",
   "metadata": {},
   "source": [
    "guardar las tablas"
   ]
  },
  {
   "cell_type": "code",
   "execution_count": null,
   "id": "36136340",
   "metadata": {},
   "outputs": [],
   "source": [
    "tabla_hechos_final.to_sql('tabla_hechos_servicios', etl_conn, if_exists='replace', index=False)\n",
    "\n",
    "# O guardar como archivo CSV\n",
    "tabla_hechos_final.to_csv('tabla_hechos_servicios.csv', index=False)"
   ]
  },
  {
   "cell_type": "markdown",
   "id": "83f750144d4ee012",
   "metadata": {},
   "source": [
    "8) Mostrar los tiempos de espera por cada fase del servicio: Iniciado, Con mensajero asignado, recogido en origen, Entregado en Destino, Cerrado. En que fase del servicio hay más demoras?"
   ]
  },
  {
   "cell_type": "code",
   "execution_count": null,
   "id": "80337ab20bb17f5b",
   "metadata": {},
   "outputs": [],
   "source": [
    "print(tiempos_espera)\n",
    "\n",
    "# Encontrar la fase con más demoras\n",
    "fase_max_demora = tiempos_espera.loc[tiempos_espera['tiempo_espera'].idxmax()]\n",
    "print(f\"La fase con más demoras es: {fase_max_demora['fase']} con un tiempo de espera promedio de {fase_max_demora['tiempo_espera']} días.\")"
   ]
  }
 ],
 "metadata": {
  "kernelspec": {
   "display_name": "Python 3",
   "language": "python",
   "name": "python3"
  },
  "language_info": {
   "codemirror_mode": {
    "name": "ipython",
    "version": 3
   },
   "file_extension": ".py",
   "mimetype": "text/x-python",
   "name": "python",
   "nbconvert_exporter": "python",
   "pygments_lexer": "ipython3",
   "version": "3.12.6"
  }
 },
 "nbformat": 4,
 "nbformat_minor": 5
}
