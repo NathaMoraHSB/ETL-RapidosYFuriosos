{
 "cells": [
  {
   "metadata": {},
   "cell_type": "markdown",
   "source": [
    "# Inicializar la Dimensión Sede\n",
    "Importaciones"
   ],
   "id": "33c958a1ee98633f"
  },
  {
   "cell_type": "code",
   "id": "initial_id",
   "metadata": {
    "collapsed": true,
    "ExecuteTime": {
     "end_time": "2024-10-21T21:49:53.076056Z",
     "start_time": "2024-10-21T21:49:52.131970Z"
    }
   },
   "source": [
    "import pandas as pd\n",
    "from sqlalchemy import create_engine\n",
    "import yaml"
   ],
   "outputs": [],
   "execution_count": 2
  },
  {
   "metadata": {},
   "cell_type": "markdown",
   "source": "",
   "id": "3a490d0ac315403a"
  },
  {
   "metadata": {},
   "cell_type": "markdown",
   "source": "# Conexión a la base de datos",
   "id": "16249fbec508c4b8"
  },
  {
   "metadata": {
    "ExecuteTime": {
     "end_time": "2024-10-21T21:49:56.424046Z",
     "start_time": "2024-10-21T21:49:56.358969Z"
    }
   },
   "cell_type": "code",
   "source": [
    "# Cargar configuración de conexión desde el archivo YAML\n",
    "with open('../config.yml', 'r') as f:\n",
    "    config = yaml.safe_load(f)\n",
    "    config_ryf = config['RAPIDOS-Y_FURIOSOS']\n",
    "    config_etl = config['ETL_RYF']\n",
    "\n",
    "# Construir la URL de conexión para cada base de datos\n",
    "url_ryf = (f\"{config_ryf['drivername']}://{config_ryf['user']}:{config_ryf['password']}@\"\n",
    "           f\"{config_ryf['host']}:{config_ryf['port']}/{config_ryf['dbname']}\")\n",
    "\n",
    "url_etl = (f\"{config_etl['drivername']}://{config_etl['user']}:{config_etl['password']}@\"\n",
    "           f\"{config_etl['host']}:{config_etl['port']}/{config_etl['dbname']}\")\n",
    "\n",
    "# Crear el Engine de SQLAlchemy para ambas conexiones\n",
    "ryf_conn = create_engine(url_ryf)\n",
    "etl_conn = create_engine(url_etl)"
   ],
   "id": "f9463db24c040ac1",
   "outputs": [],
   "execution_count": 3
  },
  {
   "metadata": {},
   "cell_type": "markdown",
   "source": "# Extraer Datos de la Sede",
   "id": "832bc2996ef74b9f"
  },
  {
   "metadata": {
    "ExecuteTime": {
     "end_time": "2024-10-21T21:50:43.615596Z",
     "start_time": "2024-10-21T21:50:43.522960Z"
    }
   },
   "cell_type": "code",
   "source": [
    "# Query para extraer la información de la dimensión sede\n",
    "query = \"\"\"\n",
    "SELECT\n",
    "    s.sede_id,\n",
    "    s.nombre AS sede_nombre,\n",
    "    s.direccion AS sede_direccion,\n",
    "    s.telefono AS sede_telefono,\n",
    "    s.nombre_contacto AS contacto_sede,\n",
    "    c.nombre AS ciudad_nombre,\n",
    "    cl.nombre AS cliente_nombre\n",
    "FROM\n",
    "    public.sede s\n",
    "LEFT JOIN\n",
    "    public.ciudad c ON s.ciudad_id = c.ciudad_id\n",
    "LEFT JOIN\n",
    "    public.cliente cl ON s.cliente_id = cl.cliente_id;\n",
    "\"\"\"\n",
    "\n",
    "# Leer los datos desde la base de datos 'RAPIDOS-Y_FURIOSOS' a un DataFrame de Pandas\n",
    "df_sede = pd.read_sql(query, ryf_conn)\n",
    "\n",
    "# Mostrar los primeros registros para verificar la extracción\n",
    "df_sede.head()"
   ],
   "id": "7f8e6a4d758d0e6f",
   "outputs": [
    {
     "data": {
      "text/plain": [
       "   sede_id            sede_nombre               sede_direccion sede_telefono  \\\n",
       "0       10        FARALLONES /123  Los angeles distrito Latino     310-70000   \n",
       "1       11          REMEDIOZ/ 123  Los angeles distrito Latino     310-70000   \n",
       "2       13       DIME / LOS ROJOS  Los angeles distrito Latino     310-70000   \n",
       "3       14  DESPACHOS / LOS ROJOS  Los angeles distrito Latino     310-70000   \n",
       "4       23  POPAYAN BODEGA 28 / A  Los angeles distrito Latino     310-70000   \n",
       "\n",
       "  contacto_sede ciudad_nombre                cliente_nombre  \n",
       "0    JUAN PEREZ          CALI                CRUZ AZUL-LIFE  \n",
       "1    JUAN PEREZ          CALI                CRUZ AZUL-LIFE  \n",
       "2    JUAN PEREZ          CALI                CRUZ AZUL-LIFE  \n",
       "3    JUAN PEREZ          CALI                CRUZ AZUL-LIFE  \n",
       "4    JUAN PEREZ       POPAYAN  CARROS DEL  PACIFICO (CHINA)  "
      ],
      "text/html": [
       "<div>\n",
       "<style scoped>\n",
       "    .dataframe tbody tr th:only-of-type {\n",
       "        vertical-align: middle;\n",
       "    }\n",
       "\n",
       "    .dataframe tbody tr th {\n",
       "        vertical-align: top;\n",
       "    }\n",
       "\n",
       "    .dataframe thead th {\n",
       "        text-align: right;\n",
       "    }\n",
       "</style>\n",
       "<table border=\"1\" class=\"dataframe\">\n",
       "  <thead>\n",
       "    <tr style=\"text-align: right;\">\n",
       "      <th></th>\n",
       "      <th>sede_id</th>\n",
       "      <th>sede_nombre</th>\n",
       "      <th>sede_direccion</th>\n",
       "      <th>sede_telefono</th>\n",
       "      <th>contacto_sede</th>\n",
       "      <th>ciudad_nombre</th>\n",
       "      <th>cliente_nombre</th>\n",
       "    </tr>\n",
       "  </thead>\n",
       "  <tbody>\n",
       "    <tr>\n",
       "      <th>0</th>\n",
       "      <td>10</td>\n",
       "      <td>FARALLONES /123</td>\n",
       "      <td>Los angeles distrito Latino</td>\n",
       "      <td>310-70000</td>\n",
       "      <td>JUAN PEREZ</td>\n",
       "      <td>CALI</td>\n",
       "      <td>CRUZ AZUL-LIFE</td>\n",
       "    </tr>\n",
       "    <tr>\n",
       "      <th>1</th>\n",
       "      <td>11</td>\n",
       "      <td>REMEDIOZ/ 123</td>\n",
       "      <td>Los angeles distrito Latino</td>\n",
       "      <td>310-70000</td>\n",
       "      <td>JUAN PEREZ</td>\n",
       "      <td>CALI</td>\n",
       "      <td>CRUZ AZUL-LIFE</td>\n",
       "    </tr>\n",
       "    <tr>\n",
       "      <th>2</th>\n",
       "      <td>13</td>\n",
       "      <td>DIME / LOS ROJOS</td>\n",
       "      <td>Los angeles distrito Latino</td>\n",
       "      <td>310-70000</td>\n",
       "      <td>JUAN PEREZ</td>\n",
       "      <td>CALI</td>\n",
       "      <td>CRUZ AZUL-LIFE</td>\n",
       "    </tr>\n",
       "    <tr>\n",
       "      <th>3</th>\n",
       "      <td>14</td>\n",
       "      <td>DESPACHOS / LOS ROJOS</td>\n",
       "      <td>Los angeles distrito Latino</td>\n",
       "      <td>310-70000</td>\n",
       "      <td>JUAN PEREZ</td>\n",
       "      <td>CALI</td>\n",
       "      <td>CRUZ AZUL-LIFE</td>\n",
       "    </tr>\n",
       "    <tr>\n",
       "      <th>4</th>\n",
       "      <td>23</td>\n",
       "      <td>POPAYAN BODEGA 28 / A</td>\n",
       "      <td>Los angeles distrito Latino</td>\n",
       "      <td>310-70000</td>\n",
       "      <td>JUAN PEREZ</td>\n",
       "      <td>POPAYAN</td>\n",
       "      <td>CARROS DEL  PACIFICO (CHINA)</td>\n",
       "    </tr>\n",
       "  </tbody>\n",
       "</table>\n",
       "</div>"
      ]
     },
     "execution_count": 4,
     "metadata": {},
     "output_type": "execute_result"
    }
   ],
   "execution_count": 4
  },
  {
   "metadata": {},
   "cell_type": "markdown",
   "source": "Cargar la Dimensión Sede",
   "id": "b2a6ab61706b81e9"
  },
  {
   "metadata": {
    "ExecuteTime": {
     "end_time": "2024-10-21T21:51:27.084964Z",
     "start_time": "2024-10-21T21:51:27.000059Z"
    }
   },
   "cell_type": "code",
   "source": "df_sede.to_sql('dim_sede', etl_conn, index=False, if_exists='replace')",
   "id": "724576f8b37bc6d8",
   "outputs": [
    {
     "data": {
      "text/plain": [
       "52"
      ]
     },
     "execution_count": 5,
     "metadata": {},
     "output_type": "execute_result"
    }
   ],
   "execution_count": 5
  },
  {
   "metadata": {},
   "cell_type": "code",
   "outputs": [],
   "execution_count": null,
   "source": "",
   "id": "f52f317ff13541c4"
  }
 ],
 "metadata": {
  "kernelspec": {
   "display_name": "Python 3",
   "language": "python",
   "name": "python3"
  },
  "language_info": {
   "codemirror_mode": {
    "name": "ipython",
    "version": 2
   },
   "file_extension": ".py",
   "mimetype": "text/x-python",
   "name": "python",
   "nbconvert_exporter": "python",
   "pygments_lexer": "ipython2",
   "version": "2.7.6"
  }
 },
 "nbformat": 4,
 "nbformat_minor": 5
}
