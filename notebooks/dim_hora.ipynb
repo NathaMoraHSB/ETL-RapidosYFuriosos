{
 "cells": [
  {
   "metadata": {},
   "cell_type": "markdown",
   "source": [
    "# Inicializar la Dimensión hora\n",
    "importaciones\n"
   ],
   "id": "693ceacccf8c4a2c"
  },
  {
   "cell_type": "code",
   "id": "initial_id",
   "metadata": {
    "collapsed": true,
    "ExecuteTime": {
     "end_time": "2024-11-07T01:34:04.853296Z",
     "start_time": "2024-11-07T01:34:03.796141Z"
    }
   },
   "source": [
    "from sqlalchemy import create_engine\n",
    "import pandas as pd\n",
    "import yaml"
   ],
   "outputs": [],
   "execution_count": 1
  },
  {
   "metadata": {},
   "cell_type": "markdown",
   "source": "Crear un rango de horas para un solo día, con un paso de una hora",
   "id": "2f0f6b3ccd0d6343"
  },
  {
   "metadata": {
    "ExecuteTime": {
     "end_time": "2024-11-07T01:34:04.868028Z",
     "start_time": "2024-11-07T01:34:04.856307Z"
    }
   },
   "cell_type": "code",
   "source": "horas = pd.date_range(start='2024-01-01 00:00:00', end='2024-01-01 23:00:00', freq='H')",
   "id": "cbe9596c02aa7d09",
   "outputs": [
    {
     "name": "stderr",
     "output_type": "stream",
     "text": [
      "C:\\Users\\nathy\\AppData\\Local\\Temp\\ipykernel_15756\\689196718.py:1: FutureWarning: 'H' is deprecated and will be removed in a future version, please use 'h' instead.\n",
      "  horas = pd.date_range(start='2024-01-01 00:00:00', end='2024-01-01 23:00:00', freq='H')\n"
     ]
    }
   ],
   "execution_count": 2
  },
  {
   "metadata": {},
   "cell_type": "markdown",
   "source": "Crear el DataFrame de la dimensión hora",
   "id": "af039d0d97f45916"
  },
  {
   "metadata": {
    "ExecuteTime": {
     "end_time": "2024-11-07T01:34:04.884659Z",
     "start_time": "2024-11-07T01:34:04.871449Z"
    }
   },
   "cell_type": "code",
   "source": [
    "dim_hora = pd.DataFrame({\n",
    "    \"hora\": horas.strftime('%H')  # Solo la hora (00, 01, ..., 23)\n",
    "})"
   ],
   "id": "19d52bd79728debc",
   "outputs": [],
   "execution_count": 3
  },
  {
   "metadata": {},
   "cell_type": "markdown",
   "source": "# Ver columnas del DataFrame",
   "id": "bd70e599499b8960"
  },
  {
   "metadata": {
    "ExecuteTime": {
     "end_time": "2024-11-07T01:34:04.919218Z",
     "start_time": "2024-11-07T01:34:04.887609Z"
    }
   },
   "cell_type": "code",
   "source": "dim_hora.head()",
   "id": "f32ab40fdad1eac0",
   "outputs": [
    {
     "data": {
      "text/plain": [
       "  hora\n",
       "0   00\n",
       "1   01\n",
       "2   02\n",
       "3   03\n",
       "4   04"
      ],
      "text/html": [
       "<div>\n",
       "<style scoped>\n",
       "    .dataframe tbody tr th:only-of-type {\n",
       "        vertical-align: middle;\n",
       "    }\n",
       "\n",
       "    .dataframe tbody tr th {\n",
       "        vertical-align: top;\n",
       "    }\n",
       "\n",
       "    .dataframe thead th {\n",
       "        text-align: right;\n",
       "    }\n",
       "</style>\n",
       "<table border=\"1\" class=\"dataframe\">\n",
       "  <thead>\n",
       "    <tr style=\"text-align: right;\">\n",
       "      <th></th>\n",
       "      <th>hora</th>\n",
       "    </tr>\n",
       "  </thead>\n",
       "  <tbody>\n",
       "    <tr>\n",
       "      <th>0</th>\n",
       "      <td>00</td>\n",
       "    </tr>\n",
       "    <tr>\n",
       "      <th>1</th>\n",
       "      <td>01</td>\n",
       "    </tr>\n",
       "    <tr>\n",
       "      <th>2</th>\n",
       "      <td>02</td>\n",
       "    </tr>\n",
       "    <tr>\n",
       "      <th>3</th>\n",
       "      <td>03</td>\n",
       "    </tr>\n",
       "    <tr>\n",
       "      <th>4</th>\n",
       "      <td>04</td>\n",
       "    </tr>\n",
       "  </tbody>\n",
       "</table>\n",
       "</div>"
      ]
     },
     "execution_count": 4,
     "metadata": {},
     "output_type": "execute_result"
    }
   ],
   "execution_count": 4
  },
  {
   "metadata": {},
   "cell_type": "markdown",
   "source": "# Conexión a la Base de Datos",
   "id": "3af618fc57d17dca"
  },
  {
   "metadata": {
    "ExecuteTime": {
     "end_time": "2024-11-07T01:34:14.885873Z",
     "start_time": "2024-11-07T01:34:14.766959Z"
    }
   },
   "cell_type": "code",
   "source": [
    "# Cargar configuración de conexión desde el archivo YAML\n",
    "with open('../config.yml', 'r') as f:\n",
    "    config = yaml.safe_load(f)\n",
    "    config_ryf = config['RAPIDOS-Y_FURIOSOS']\n",
    "    config_etl = config['ETL_RYF']\n",
    "\n",
    "# Construir la URL de conexión para cada base de datos\n",
    "url_ryf = (f\"{config_ryf['drivername']}://{config_ryf['user']}:{config_ryf['password']}@\"\n",
    "           f\"{config_ryf['host']}:{config_ryf['port']}/{config_ryf['dbname']}\")\n",
    "\n",
    "url_etl = (f\"{config_etl['drivername']}://{config_etl['user']}:{config_etl['password']}@\"\n",
    "           f\"{config_etl['host']}:{config_etl['port']}/{config_etl['dbname']}\")\n",
    "\n",
    "# Crear el Engine de SQLAlchemy para ambas conexiones\n",
    "ryf_conn = create_engine(url_ryf)\n",
    "etl_conn = create_engine(url_etl)"
   ],
   "id": "c7b8d980ab4825f0",
   "outputs": [],
   "execution_count": 5
  },
  {
   "metadata": {
    "ExecuteTime": {
     "end_time": "2024-11-07T01:34:16.537652Z",
     "start_time": "2024-11-07T01:34:16.256463Z"
    }
   },
   "cell_type": "code",
   "source": "dim_hora.to_sql('dim_hora', etl_conn, if_exists='replace', index_label='key_dim_hora')",
   "id": "78548923e94f56f0",
   "outputs": [
    {
     "data": {
      "text/plain": [
       "24"
      ]
     },
     "execution_count": 6,
     "metadata": {},
     "output_type": "execute_result"
    }
   ],
   "execution_count": 6
  },
  {
   "metadata": {},
   "cell_type": "code",
   "outputs": [],
   "execution_count": null,
   "source": "",
   "id": "81349929895a454e"
  }
 ],
 "metadata": {
  "kernelspec": {
   "display_name": "Python 3",
   "language": "python",
   "name": "python3"
  },
  "language_info": {
   "codemirror_mode": {
    "name": "ipython",
    "version": 2
   },
   "file_extension": ".py",
   "mimetype": "text/x-python",
   "name": "python",
   "nbconvert_exporter": "python",
   "pygments_lexer": "ipython2",
   "version": "2.7.6"
  }
 },
 "nbformat": 4,
 "nbformat_minor": 5
}
