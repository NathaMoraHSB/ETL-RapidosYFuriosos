{
 "cells": [
  {
   "metadata": {},
   "cell_type": "markdown",
   "source": "# Hecho servicios mensuales",
   "id": "2a6bc5df1c104b87"
  },
  {
   "cell_type": "code",
   "execution_count": null,
   "id": "initial_id",
   "metadata": {
    "collapsed": true
   },
   "outputs": [],
   "source": [
    "import datetime\n",
    "import numpy as np\n",
    "import pandas as pd\n",
    "import yaml\n",
    "from sqlalchemy import create_engine"
   ]
  },
  {
   "metadata": {},
   "cell_type": "markdown",
   "source": [
    "\n",
    "1) En qué meses del año los clientes solicitan más servicios de mensajería\n",
    "4) Número de servicios solicitados por cliente y por mes\n",
    "5) Mensajeros más eficientes (Los que más servicios prestan)\n",
    "6) Cuáles son las sedes que más servicios solicitan por cada cliente.\n",
    "7) Cuál es el tiempo promedio de entrega desde que se solicita el servicio hasta que se cierra el caso.\n"
   ],
   "id": "abf04cdf722182ca"
  },
  {
   "metadata": {},
   "cell_type": "code",
   "outputs": [],
   "execution_count": null,
   "source": "",
   "id": "b5ecd511da8e9663"
  }
 ],
 "metadata": {
  "kernelspec": {
   "display_name": "Python 3",
   "language": "python",
   "name": "python3"
  },
  "language_info": {
   "codemirror_mode": {
    "name": "ipython",
    "version": 2
   },
   "file_extension": ".py",
   "mimetype": "text/x-python",
   "name": "python",
   "nbconvert_exporter": "python",
   "pygments_lexer": "ipython2",
   "version": "2.7.6"
  }
 },
 "nbformat": 4,
 "nbformat_minor": 5
}
