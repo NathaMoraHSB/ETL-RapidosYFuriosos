{
 "cells": [
  {
   "metadata": {},
   "cell_type": "markdown",
   "source": "# Hecho servicios por hora",
   "id": "593ff778f10d3682"
  },
  {
   "cell_type": "code",
   "id": "initial_id",
   "metadata": {
    "collapsed": true,
    "ExecuteTime": {
     "end_time": "2024-11-02T00:12:58.516355Z",
     "start_time": "2024-11-02T00:12:57.580242Z"
    }
   },
   "source": [
    "import datetime\n",
    "import numpy as np\n",
    "import pandas as pd\n",
    "import yaml\n",
    "from sqlalchemy import create_engine"
   ],
   "outputs": [],
   "execution_count": 1
  },
  {
   "metadata": {},
   "cell_type": "markdown",
   "source": "# Añadir conexión a la base de datos",
   "id": "d126980c74ad0391"
  },
  {
   "metadata": {
    "ExecuteTime": {
     "end_time": "2024-11-02T00:13:02.361967Z",
     "start_time": "2024-11-02T00:13:02.265289Z"
    }
   },
   "cell_type": "code",
   "source": [
    "with open('../config.yml', 'r') as f:\n",
    "    config = yaml.safe_load(f)\n",
    "    config_ryf = config['RAPIDOS-Y_FURIOSOS']\n",
    "    config_etl = config['ETL_RYF']\n",
    "\n",
    "# Construir la URL de conexión para cada base de datos\n",
    "url_ryf = (f\"{config_ryf['drivername']}://{config_ryf['user']}:{config_ryf['password']}@\"\n",
    "           f\"{config_ryf['host']}:{config_ryf['port']}/{config_ryf['dbname']}\")\n",
    "\n",
    "url_etl = (f\"{config_etl['drivername']}://{config_etl['user']}:{config_etl['password']}@\"\n",
    "           f\"{config_etl['host']}:{config_etl['port']}/{config_etl['dbname']}\")\n",
    "\n",
    "# Crear el Engine de SQLAlchemy para ambas conexiones\n",
    "ryf_conn = create_engine(url_ryf)\n",
    "etl_conn = create_engine(url_etl)"
   ],
   "id": "b109e9c306f11ce",
   "outputs": [],
   "execution_count": 2
  },
  {
   "metadata": {},
   "cell_type": "markdown",
   "source": "# Extracción de datos",
   "id": "7afc532dcc9aefa6"
  },
  {
   "metadata": {
    "ExecuteTime": {
     "end_time": "2024-11-02T00:15:32.341598Z",
     "start_time": "2024-11-02T00:15:31.755127Z"
    }
   },
   "cell_type": "code",
   "source": [
    "servicios_df = pd.read_sql(\"SELECT * FROM mensajeria_servicio\", ryf_conn)\n",
    "hora_df = pd.read_sql(\"SELECT * FROM dim_hora\", etl_conn)"
   ],
   "id": "c565ef7b78dc35d2",
   "outputs": [],
   "execution_count": 4
  },
  {
   "metadata": {},
   "cell_type": "markdown",
   "source": "# Transformación",
   "id": "41f98820e088b331"
  },
  {
   "metadata": {
    "ExecuteTime": {
     "end_time": "2024-11-02T00:15:42.450071Z",
     "start_time": "2024-11-02T00:15:42.403833Z"
    }
   },
   "cell_type": "code",
   "source": "servicios_por_hora = servicios_df.groupby(['hora_solicitud']).size().reset_index(name='total_servicios')",
   "id": "8ce82fad7c48f043",
   "outputs": [],
   "execution_count": 5
  },
  {
   "metadata": {},
   "cell_type": "markdown",
   "source": "# Carga al datamart",
   "id": "ddcbd946a7ffb820"
  },
  {
   "metadata": {
    "ExecuteTime": {
     "end_time": "2024-11-02T00:15:49.197020Z",
     "start_time": "2024-11-02T00:15:48.432709Z"
    }
   },
   "cell_type": "code",
   "source": "servicios_por_hora.to_sql(\"servicios_por_hora\", etl_conn, if_exists=\"replace\", index=False)",
   "id": "16d9cc306472ea22",
   "outputs": [
    {
     "data": {
      "text/plain": [
       "178"
      ]
     },
     "execution_count": 6,
     "metadata": {},
     "output_type": "execute_result"
    }
   ],
   "execution_count": 6
  }
 ],
 "metadata": {
  "kernelspec": {
   "display_name": "Python 3",
   "language": "python",
   "name": "python3"
  },
  "language_info": {
   "codemirror_mode": {
    "name": "ipython",
    "version": 2
   },
   "file_extension": ".py",
   "mimetype": "text/x-python",
   "name": "python",
   "nbconvert_exporter": "python",
   "pygments_lexer": "ipython2",
   "version": "2.7.6"
  }
 },
 "nbformat": 4,
 "nbformat_minor": 5
}
