{
 "cells": [
  {
   "metadata": {},
   "cell_type": "markdown",
   "source": [
    "# Inicializar la Dimensión Mensajero\n",
    "Importaciones"
   ],
   "id": "fdf503fc539d636b"
  },
  {
   "cell_type": "code",
   "id": "initial_id",
   "metadata": {
    "collapsed": true,
    "ExecuteTime": {
     "end_time": "2024-11-01T21:25:05.890638Z",
     "start_time": "2024-11-01T21:25:02.858409Z"
    }
   },
   "source": [
    "import pandas as pd\n",
    "from sqlalchemy import create_engine\n",
    "import yaml"
   ],
   "outputs": [],
   "execution_count": 3
  },
  {
   "metadata": {},
   "cell_type": "markdown",
   "source": "# Conexion a la base de datos",
   "id": "17693de75182740c"
  },
  {
   "metadata": {
    "ExecuteTime": {
     "end_time": "2024-11-01T21:25:10.641634Z",
     "start_time": "2024-11-01T21:25:10.377575Z"
    }
   },
   "cell_type": "code",
   "source": [
    "# Cargar configuración de conexión desde el archivo YAML\n",
    "with open('../config.yml', 'r') as f:\n",
    "    config = yaml.safe_load(f)\n",
    "    config_ryf = config['RAPIDOS-Y_FURIOSOS']\n",
    "    config_etl = config['ETL_RYF']\n",
    "\n",
    "# Construir la URL de conexión para cada base de datos\n",
    "url_ryf = (f\"{config_ryf['drivername']}://{config_ryf['user']}:{config_ryf['password']}@\"\n",
    "           f\"{config_ryf['host']}:{config_ryf['port']}/{config_ryf['dbname']}\")\n",
    "\n",
    "url_etl = (f\"{config_etl['drivername']}://{config_etl['user']}:{config_etl['password']}@\"\n",
    "           f\"{config_etl['host']}:{config_etl['port']}/{config_etl['dbname']}\")\n",
    "\n",
    "# Crear el Engine de SQLAlchemy para ambas conexiones\n",
    "ryf_conn = create_engine(url_ryf)\n",
    "etl_conn = create_engine(url_etl)"
   ],
   "id": "33e4763e8254718a",
   "outputs": [],
   "execution_count": 4
  },
  {
   "metadata": {},
   "cell_type": "markdown",
   "source": "# Extraer Datos del Mensajero",
   "id": "a886ddeb8911c188"
  },
  {
   "metadata": {
    "ExecuteTime": {
     "end_time": "2024-11-01T21:31:46.306763Z",
     "start_time": "2024-11-01T21:31:46.084651Z"
    }
   },
   "cell_type": "code",
   "source": [
    "# Query para extraer la información de la dimensión mensajero\n",
    "query = \"\"\"\n",
    "SELECT\n",
    "    cm.id AS mensajero_id,\n",
    "    cm.user_id,\n",
    "    cm.activo,\n",
    "    cm.telefono,\n",
    "    cm.url_foto,\n",
    "    c.nombre AS ciudad_nombre,\n",
    "    au.username,\n",
    "    au.first_name,\n",
    "    au.last_name,\n",
    "    au.email\n",
    "FROM\n",
    "    public.clientes_mensajeroaquitoy cm\n",
    "LEFT JOIN\n",
    "    public.ciudad c ON cm.ciudad_operacion_id = c.ciudad_id\n",
    "LEFT JOIN\n",
    "    public.auth_user au ON cm.user_id = au.id;\n",
    "\"\"\"\n",
    "\n",
    "# Leer los datos desde la base de datos 'RAPIDOS-Y_FURIOSOS' a un DataFrame de Pandas\n",
    "df_mensajero = pd.read_sql(query, ryf_conn)\n",
    "\n",
    "# Mostrar los primeros registros para verificar la extracción\n",
    "df_mensajero.head()"
   ],
   "id": "b3806369ce7ffff5",
   "outputs": [
    {
     "data": {
      "text/plain": [
       "   mensajero_id  user_id  activo    telefono url_foto ciudad_nombre  \\\n",
       "0             8      327    True  310-300000    http:       PALMIRA   \n",
       "1            10      328    True  310-300000    http:          CALI   \n",
       "2            11      329    True  310-300000    http:          CALI   \n",
       "3            12      330    True  310-300000    http:          CALI   \n",
       "4            13      331    True  310-300000    http:         PASTO   \n",
       "\n",
       "            username        first_name          last_name  \\\n",
       "0        Luis Castro  pepito_el_rapido  pepito_el_furioso   \n",
       "1    Luis Valenciano  pepito_el_rapido  pepito_el_furioso   \n",
       "2  Carlos Valderrama  pepito_el_rapido  pepito_el_furioso   \n",
       "3  Faustino Asprilla  pepito_el_rapido  pepito_el_furioso   \n",
       "4   GEOVANNY Hidalgo  pepito_el_rapido  pepito_el_furioso   \n",
       "\n",
       "                        email  \n",
       "0  rapidos-furiosos@gmail.com  \n",
       "1  rapidos-furiosos@gmail.com  \n",
       "2  rapidos-furiosos@gmail.com  \n",
       "3  rapidos-furiosos@gmail.com  \n",
       "4  rapidos-furiosos@gmail.com  "
      ],
      "text/html": [
       "<div>\n",
       "<style scoped>\n",
       "    .dataframe tbody tr th:only-of-type {\n",
       "        vertical-align: middle;\n",
       "    }\n",
       "\n",
       "    .dataframe tbody tr th {\n",
       "        vertical-align: top;\n",
       "    }\n",
       "\n",
       "    .dataframe thead th {\n",
       "        text-align: right;\n",
       "    }\n",
       "</style>\n",
       "<table border=\"1\" class=\"dataframe\">\n",
       "  <thead>\n",
       "    <tr style=\"text-align: right;\">\n",
       "      <th></th>\n",
       "      <th>mensajero_id</th>\n",
       "      <th>user_id</th>\n",
       "      <th>activo</th>\n",
       "      <th>telefono</th>\n",
       "      <th>url_foto</th>\n",
       "      <th>ciudad_nombre</th>\n",
       "      <th>username</th>\n",
       "      <th>first_name</th>\n",
       "      <th>last_name</th>\n",
       "      <th>email</th>\n",
       "    </tr>\n",
       "  </thead>\n",
       "  <tbody>\n",
       "    <tr>\n",
       "      <th>0</th>\n",
       "      <td>8</td>\n",
       "      <td>327</td>\n",
       "      <td>True</td>\n",
       "      <td>310-300000</td>\n",
       "      <td>http:</td>\n",
       "      <td>PALMIRA</td>\n",
       "      <td>Luis Castro</td>\n",
       "      <td>pepito_el_rapido</td>\n",
       "      <td>pepito_el_furioso</td>\n",
       "      <td>rapidos-furiosos@gmail.com</td>\n",
       "    </tr>\n",
       "    <tr>\n",
       "      <th>1</th>\n",
       "      <td>10</td>\n",
       "      <td>328</td>\n",
       "      <td>True</td>\n",
       "      <td>310-300000</td>\n",
       "      <td>http:</td>\n",
       "      <td>CALI</td>\n",
       "      <td>Luis Valenciano</td>\n",
       "      <td>pepito_el_rapido</td>\n",
       "      <td>pepito_el_furioso</td>\n",
       "      <td>rapidos-furiosos@gmail.com</td>\n",
       "    </tr>\n",
       "    <tr>\n",
       "      <th>2</th>\n",
       "      <td>11</td>\n",
       "      <td>329</td>\n",
       "      <td>True</td>\n",
       "      <td>310-300000</td>\n",
       "      <td>http:</td>\n",
       "      <td>CALI</td>\n",
       "      <td>Carlos Valderrama</td>\n",
       "      <td>pepito_el_rapido</td>\n",
       "      <td>pepito_el_furioso</td>\n",
       "      <td>rapidos-furiosos@gmail.com</td>\n",
       "    </tr>\n",
       "    <tr>\n",
       "      <th>3</th>\n",
       "      <td>12</td>\n",
       "      <td>330</td>\n",
       "      <td>True</td>\n",
       "      <td>310-300000</td>\n",
       "      <td>http:</td>\n",
       "      <td>CALI</td>\n",
       "      <td>Faustino Asprilla</td>\n",
       "      <td>pepito_el_rapido</td>\n",
       "      <td>pepito_el_furioso</td>\n",
       "      <td>rapidos-furiosos@gmail.com</td>\n",
       "    </tr>\n",
       "    <tr>\n",
       "      <th>4</th>\n",
       "      <td>13</td>\n",
       "      <td>331</td>\n",
       "      <td>True</td>\n",
       "      <td>310-300000</td>\n",
       "      <td>http:</td>\n",
       "      <td>PASTO</td>\n",
       "      <td>GEOVANNY Hidalgo</td>\n",
       "      <td>pepito_el_rapido</td>\n",
       "      <td>pepito_el_furioso</td>\n",
       "      <td>rapidos-furiosos@gmail.com</td>\n",
       "    </tr>\n",
       "  </tbody>\n",
       "</table>\n",
       "</div>"
      ]
     },
     "execution_count": 5,
     "metadata": {},
     "output_type": "execute_result"
    }
   ],
   "execution_count": 5
  },
  {
   "metadata": {},
   "cell_type": "markdown",
   "source": "# Cargar la Dimensión Mensajero",
   "id": "89a50bd26c25f6e5"
  },
  {
   "metadata": {
    "ExecuteTime": {
     "end_time": "2024-11-01T21:31:53.564723Z",
     "start_time": "2024-11-01T21:31:53.248659Z"
    }
   },
   "cell_type": "code",
   "source": [
    "# Cargar los datos a la base de datos 'ETL_RYF' como la dimensión 'dim_mensajero'\n",
    "df_mensajero.to_sql('dim_mensajero', etl_conn, index=False, if_exists='replace')"
   ],
   "id": "c35302ba6a724b3f",
   "outputs": [
    {
     "data": {
      "text/plain": [
       "50"
      ]
     },
     "execution_count": 6,
     "metadata": {},
     "output_type": "execute_result"
    }
   ],
   "execution_count": 6
  },
  {
   "metadata": {},
   "cell_type": "code",
   "outputs": [],
   "execution_count": null,
   "source": "",
   "id": "cb761eb4238a6a14"
  }
 ],
 "metadata": {
  "kernelspec": {
   "display_name": "Python 3",
   "language": "python",
   "name": "python3"
  },
  "language_info": {
   "codemirror_mode": {
    "name": "ipython",
    "version": 2
   },
   "file_extension": ".py",
   "mimetype": "text/x-python",
   "name": "python",
   "nbconvert_exporter": "python",
   "pygments_lexer": "ipython2",
   "version": "2.7.6"
  }
 },
 "nbformat": 4,
 "nbformat_minor": 5
}
