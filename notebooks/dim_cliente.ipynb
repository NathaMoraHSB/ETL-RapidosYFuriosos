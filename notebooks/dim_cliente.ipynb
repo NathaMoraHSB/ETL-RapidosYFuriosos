{
 "cells": [
  {
   "metadata": {},
   "cell_type": "markdown",
   "source": [
    "## Inicializar la Dimensión Cliente\n",
    "Importaciones"
   ],
   "id": "a135a7152caabb12"
  },
  {
   "cell_type": "code",
   "id": "initial_id",
   "metadata": {
    "collapsed": true,
    "ExecuteTime": {
     "end_time": "2024-11-01T23:35:53.748590Z",
     "start_time": "2024-11-01T23:35:52.800073Z"
    }
   },
   "source": [
    "import pandas as pd\n",
    "from sqlalchemy import create_engine\n",
    "import yaml"
   ],
   "outputs": [],
   "execution_count": 1
  },
  {
   "metadata": {},
   "cell_type": "markdown",
   "source": "# Añadir conexión a la base de datos",
   "id": "425b8da70f15a5d6"
  },
  {
   "metadata": {
    "ExecuteTime": {
     "end_time": "2024-11-01T23:35:55.686410Z",
     "start_time": "2024-11-01T23:35:55.509113Z"
    }
   },
   "cell_type": "code",
   "source": [
    "with open('../config.yml', 'r') as f:\n",
    "    config = yaml.safe_load(f)\n",
    "    config_ryf = config['RAPIDOS-Y_FURIOSOS']\n",
    "    config_etl = config['ETL_RYF']\n",
    "\n",
    "# Construir la URL de conexión para cada base de datos\n",
    "url_ryf = (f\"{config_ryf['drivername']}://{config_ryf['user']}:{config_ryf['password']}@\"\n",
    "           f\"{config_ryf['host']}:{config_ryf['port']}/{config_ryf['dbname']}\")\n",
    "\n",
    "url_etl = (f\"{config_etl['drivername']}://{config_etl['user']}:{config_etl['password']}@\"\n",
    "           f\"{config_etl['host']}:{config_etl['port']}/{config_etl['dbname']}\")\n",
    "\n",
    "# Crear el Engine de SQLAlchemy para ambas conexiones\n",
    "ryf_conn = create_engine(url_ryf)\n",
    "etl_conn = create_engine(url_etl)"
   ],
   "id": "54c7b5a3dec87397",
   "outputs": [],
   "execution_count": 2
  },
  {
   "metadata": {},
   "cell_type": "markdown",
   "source": "# Realizar la extracción de datos",
   "id": "d84680575e1f51ac"
  },
  {
   "metadata": {
    "ExecuteTime": {
     "end_time": "2024-11-01T23:36:01.651408Z",
     "start_time": "2024-11-01T23:36:01.474123Z"
    }
   },
   "cell_type": "code",
   "source": [
    "# Cargar la tabla cliente\n",
    "df_cliente = pd.read_sql('SELECT * FROM public.cliente', ryf_conn)\n",
    "# Cargar la tabla ciudad\n",
    "df_ciudad = pd.read_sql('SELECT ciudad_id, nombre AS ciudad, departamento_id FROM public.ciudad', ryf_conn)\n",
    "# Cargar la tabla departamento\n",
    "df_departamento = pd.read_sql('SELECT departamento_id, nombre AS departamento FROM public.departamento', ryf_conn)\n",
    "# Cargar la tabla tipo_cliente\n",
    "df_tipo_cliente = pd.read_sql('SELECT tipo_cliente_id, nombre AS tipo_cliente FROM public.tipo_cliente', ryf_conn)\n"
   ],
   "id": "7333cc21b2b8e8e6",
   "outputs": [],
   "execution_count": 3
  },
  {
   "metadata": {},
   "cell_type": "markdown",
   "source": "",
   "id": "3d96cd2125ec6f1"
  },
  {
   "metadata": {},
   "cell_type": "markdown",
   "source": [
    "# Realizar la transformación\n",
    " Realiza las uniones entre las tablas para enriquecer la información de la dimensión Cliente"
   ],
   "id": "f82b60a38d7879b4"
  },
  {
   "metadata": {
    "ExecuteTime": {
     "end_time": "2024-11-01T23:36:13.286351Z",
     "start_time": "2024-11-01T23:36:13.262861Z"
    }
   },
   "cell_type": "code",
   "source": [
    "# Unir cliente con ciudad\n",
    "df_cliente_ciudad = pd.merge(df_cliente, df_ciudad, on='ciudad_id', how='left')\n",
    "\n",
    "# Unir el resultado con departamento\n",
    "df_cliente_ciudad_departamento = pd.merge(df_cliente_ciudad, df_departamento, on='departamento_id', how='left')\n",
    "\n",
    "# Unir con tipo_cliente para obtener el nombre del tipo de cliente\n",
    "df_dim_cliente = pd.merge(df_cliente_ciudad_departamento, df_tipo_cliente, on='tipo_cliente_id', how='left')\n",
    "\n",
    "# Seleccionar las columnas relevantes para la dimensión cliente\n",
    "df_dim_cliente = df_dim_cliente[[\n",
    "    'cliente_id', 'nit_cliente', 'nombre', 'email', 'direccion', 'telefono',\n",
    "    'nombre_contacto', 'ciudad', 'departamento', 'tipo_cliente', 'activo', 'sector'\n",
    "]]\n"
   ],
   "id": "a69523467f5d6957",
   "outputs": [],
   "execution_count": 4
  },
  {
   "metadata": {},
   "cell_type": "code",
   "outputs": [],
   "execution_count": null,
   "source": "",
   "id": "1b9fde7da0820d79"
  },
  {
   "metadata": {},
   "cell_type": "markdown",
   "source": "# Visualizar la dimensión Cliente",
   "id": "d51add9ded221258"
  },
  {
   "metadata": {
    "ExecuteTime": {
     "end_time": "2024-11-01T23:36:29.091169Z",
     "start_time": "2024-11-01T23:36:29.053104Z"
    }
   },
   "cell_type": "code",
   "source": "df_dim_cliente.head()",
   "id": "6a97a6e2ceadb55e",
   "outputs": [
    {
     "data": {
      "text/plain": [
       "   cliente_id nit_cliente                           nombre     email  \\\n",
       "0           1          25                        Cliente 2  algo.com   \n",
       "1           2         123                        Cliente 1  algo.com   \n",
       "2           6     24390-3       CLINICA  DEPORTIVA DEL SUR  algo.com   \n",
       "3          19     8301821  HOSPITAL ORTOPEDICO DE COLOMBIA  algo.com   \n",
       "4           8   5017350-8      CLINICA NEFROLOGOS  DE CALI  algo.com   \n",
       "\n",
       "            direccion   telefono    nombre_contacto ciudad     departamento  \\\n",
       "0  Calle 100 No 25-18  327-00000  Cristiano Ronaldo   CALI  VALLE DEL CAUCA   \n",
       "1  Calle 100 No 25-18  327-00000  Cristiano Ronaldo   CALI  VALLE DEL CAUCA   \n",
       "2  Calle 100 No 25-18  327-00000  Cristiano Ronaldo   CALI  VALLE DEL CAUCA   \n",
       "3  Calle 100 No 25-18  327-00000  Cristiano Ronaldo   CALI  VALLE DEL CAUCA   \n",
       "4  Calle 100 No 25-18  327-00000  Cristiano Ronaldo   CALI  VALLE DEL CAUCA   \n",
       "\n",
       "       tipo_cliente  activo      sector  \n",
       "0  Persona Juridica    True           S  \n",
       "1  Persona Juridica    True  industrial  \n",
       "2  Persona Juridica    True       salud  \n",
       "3  Persona Juridica    True       salud  \n",
       "4  Persona Juridica    True       salud  "
      ],
      "text/html": [
       "<div>\n",
       "<style scoped>\n",
       "    .dataframe tbody tr th:only-of-type {\n",
       "        vertical-align: middle;\n",
       "    }\n",
       "\n",
       "    .dataframe tbody tr th {\n",
       "        vertical-align: top;\n",
       "    }\n",
       "\n",
       "    .dataframe thead th {\n",
       "        text-align: right;\n",
       "    }\n",
       "</style>\n",
       "<table border=\"1\" class=\"dataframe\">\n",
       "  <thead>\n",
       "    <tr style=\"text-align: right;\">\n",
       "      <th></th>\n",
       "      <th>cliente_id</th>\n",
       "      <th>nit_cliente</th>\n",
       "      <th>nombre</th>\n",
       "      <th>email</th>\n",
       "      <th>direccion</th>\n",
       "      <th>telefono</th>\n",
       "      <th>nombre_contacto</th>\n",
       "      <th>ciudad</th>\n",
       "      <th>departamento</th>\n",
       "      <th>tipo_cliente</th>\n",
       "      <th>activo</th>\n",
       "      <th>sector</th>\n",
       "    </tr>\n",
       "  </thead>\n",
       "  <tbody>\n",
       "    <tr>\n",
       "      <th>0</th>\n",
       "      <td>1</td>\n",
       "      <td>25</td>\n",
       "      <td>Cliente 2</td>\n",
       "      <td>algo.com</td>\n",
       "      <td>Calle 100 No 25-18</td>\n",
       "      <td>327-00000</td>\n",
       "      <td>Cristiano Ronaldo</td>\n",
       "      <td>CALI</td>\n",
       "      <td>VALLE DEL CAUCA</td>\n",
       "      <td>Persona Juridica</td>\n",
       "      <td>True</td>\n",
       "      <td>S</td>\n",
       "    </tr>\n",
       "    <tr>\n",
       "      <th>1</th>\n",
       "      <td>2</td>\n",
       "      <td>123</td>\n",
       "      <td>Cliente 1</td>\n",
       "      <td>algo.com</td>\n",
       "      <td>Calle 100 No 25-18</td>\n",
       "      <td>327-00000</td>\n",
       "      <td>Cristiano Ronaldo</td>\n",
       "      <td>CALI</td>\n",
       "      <td>VALLE DEL CAUCA</td>\n",
       "      <td>Persona Juridica</td>\n",
       "      <td>True</td>\n",
       "      <td>industrial</td>\n",
       "    </tr>\n",
       "    <tr>\n",
       "      <th>2</th>\n",
       "      <td>6</td>\n",
       "      <td>24390-3</td>\n",
       "      <td>CLINICA  DEPORTIVA DEL SUR</td>\n",
       "      <td>algo.com</td>\n",
       "      <td>Calle 100 No 25-18</td>\n",
       "      <td>327-00000</td>\n",
       "      <td>Cristiano Ronaldo</td>\n",
       "      <td>CALI</td>\n",
       "      <td>VALLE DEL CAUCA</td>\n",
       "      <td>Persona Juridica</td>\n",
       "      <td>True</td>\n",
       "      <td>salud</td>\n",
       "    </tr>\n",
       "    <tr>\n",
       "      <th>3</th>\n",
       "      <td>19</td>\n",
       "      <td>8301821</td>\n",
       "      <td>HOSPITAL ORTOPEDICO DE COLOMBIA</td>\n",
       "      <td>algo.com</td>\n",
       "      <td>Calle 100 No 25-18</td>\n",
       "      <td>327-00000</td>\n",
       "      <td>Cristiano Ronaldo</td>\n",
       "      <td>CALI</td>\n",
       "      <td>VALLE DEL CAUCA</td>\n",
       "      <td>Persona Juridica</td>\n",
       "      <td>True</td>\n",
       "      <td>salud</td>\n",
       "    </tr>\n",
       "    <tr>\n",
       "      <th>4</th>\n",
       "      <td>8</td>\n",
       "      <td>5017350-8</td>\n",
       "      <td>CLINICA NEFROLOGOS  DE CALI</td>\n",
       "      <td>algo.com</td>\n",
       "      <td>Calle 100 No 25-18</td>\n",
       "      <td>327-00000</td>\n",
       "      <td>Cristiano Ronaldo</td>\n",
       "      <td>CALI</td>\n",
       "      <td>VALLE DEL CAUCA</td>\n",
       "      <td>Persona Juridica</td>\n",
       "      <td>True</td>\n",
       "      <td>salud</td>\n",
       "    </tr>\n",
       "  </tbody>\n",
       "</table>\n",
       "</div>"
      ]
     },
     "execution_count": 5,
     "metadata": {},
     "output_type": "execute_result"
    }
   ],
   "execution_count": 5
  },
  {
   "metadata": {},
   "cell_type": "markdown",
   "source": "# Cargar la dimensión Cliente al ETL",
   "id": "14b361c4dc87527f"
  },
  {
   "metadata": {
    "ExecuteTime": {
     "end_time": "2024-11-01T23:36:33.179028Z",
     "start_time": "2024-11-01T23:36:32.934321Z"
    }
   },
   "cell_type": "code",
   "source": [
    "df_dim_cliente.to_sql(\n",
    "    'dim_cliente',  # Nombre de la tabla destino en la base de datos.\n",
    "    con=etl_conn,   # Conexión a la base de datos ETL.\n",
    "    if_exists='replace',  # Reemplaza la tabla si ya existe.\n",
    "    index_label='key_dim_cliente'  # Nombre de la columna de índice (clave primaria).\n",
    ")"
   ],
   "id": "a562177e5139b346",
   "outputs": [
    {
     "data": {
      "text/plain": [
       "27"
      ]
     },
     "execution_count": 6,
     "metadata": {},
     "output_type": "execute_result"
    }
   ],
   "execution_count": 6
  },
  {
   "metadata": {},
   "cell_type": "code",
   "outputs": [],
   "execution_count": null,
   "source": "",
   "id": "4b46850ff2a169c6"
  }
 ],
 "metadata": {
  "kernelspec": {
   "display_name": "Python 3",
   "language": "python",
   "name": "python3"
  },
  "language_info": {
   "codemirror_mode": {
    "name": "ipython",
    "version": 2
   },
   "file_extension": ".py",
   "mimetype": "text/x-python",
   "name": "python",
   "nbconvert_exporter": "python",
   "pygments_lexer": "ipython2",
   "version": "2.7.6"
  }
 },
 "nbformat": 4,
 "nbformat_minor": 5
}
