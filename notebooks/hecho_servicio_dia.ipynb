{
 "cells": [
  {
   "metadata": {},
   "cell_type": "markdown",
   "source": "#   Hecho servicios por día",
   "id": "346d72541a0d612e"
  },
  {
   "cell_type": "code",
   "id": "initial_id",
   "metadata": {
    "collapsed": true,
    "ExecuteTime": {
     "end_time": "2024-11-03T20:53:16.863009Z",
     "start_time": "2024-11-03T20:53:16.727299Z"
    }
   },
   "source": [
    "import datetime\n",
    "import numpy as np\n",
    "import pandas as pd\n",
    "import yaml\n",
    "from sqlalchemy import create_engine"
   ],
   "outputs": [],
   "execution_count": 2
  },
  {
   "metadata": {},
   "cell_type": "markdown",
   "source": "# Añadir conexión a la base de datos",
   "id": "271b325285f06710"
  },
  {
   "metadata": {
    "ExecuteTime": {
     "end_time": "2024-10-21T22:31:08.938685Z",
     "start_time": "2024-10-21T22:31:08.873404Z"
    }
   },
   "cell_type": "code",
   "source": [
    "with open('../config.yml', 'r') as f:\n",
    "    config = yaml.safe_load(f)\n",
    "    config_ryf = config['RAPIDOS-Y_FURIOSOS']\n",
    "    config_etl = config['ETL_RYF']\n",
    "\n",
    "# Construir la URL de conexión para cada base de datos\n",
    "url_ryf = (f\"{config_ryf['drivername']}://{config_ryf['user']}:{config_ryf['password']}@\"\n",
    "           f\"{config_ryf['host']}:{config_ryf['port']}/{config_ryf['dbname']}\")\n",
    "\n",
    "url_etl = (f\"{config_etl['drivername']}://{config_etl['user']}:{config_etl['password']}@\"\n",
    "           f\"{config_etl['host']}:{config_etl['port']}/{config_etl['dbname']}\")\n",
    "\n",
    "# Crear el Engine de SQLAlchemy para ambas conexiones\n",
    "ryf_conn = create_engine(url_ryf)\n",
    "etl_conn = create_engine(url_etl)"
   ],
   "id": "a011880f28fe3824",
   "outputs": [],
   "execution_count": 3
  },
  {
   "metadata": {},
   "cell_type": "code",
   "outputs": [],
   "execution_count": null,
   "source": "",
   "id": "9f98607d6fbea77c"
  },
  {
   "metadata": {},
   "cell_type": "markdown",
   "source": [
    "2) Cuáles son los días donde más solicitudes hay.\n",
    "Este se puede combinar con los servicios por meses, de tal forma que calcular el mes se hace a través de la sumatoria de los días"
   ],
   "id": "ef163a89fc8492e1"
  },
  {
   "metadata": {},
   "cell_type": "code",
   "outputs": [],
   "execution_count": null,
   "source": "",
   "id": "381c8a1eedc4a98a"
  }
 ],
 "metadata": {
  "kernelspec": {
   "display_name": "Python 3",
   "language": "python",
   "name": "python3"
  },
  "language_info": {
   "codemirror_mode": {
    "name": "ipython",
    "version": 2
   },
   "file_extension": ".py",
   "mimetype": "text/x-python",
   "name": "python",
   "nbconvert_exporter": "python",
   "pygments_lexer": "ipython2",
   "version": "2.7.6"
  }
 },
 "nbformat": 4,
 "nbformat_minor": 5
}
