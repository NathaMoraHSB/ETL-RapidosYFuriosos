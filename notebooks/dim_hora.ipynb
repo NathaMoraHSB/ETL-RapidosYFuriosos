{
 "cells": [
  {
   "metadata": {},
   "cell_type": "markdown",
   "source": [
    "# Inicializar la Dimensión hora\n",
    "importaciones\n"
   ],
   "id": "693ceacccf8c4a2c"
  },
  {
   "cell_type": "code",
   "id": "initial_id",
   "metadata": {
    "collapsed": true,
    "ExecuteTime": {
     "end_time": "2024-10-21T00:30:14.808477Z",
     "start_time": "2024-10-21T00:30:14.527665Z"
    }
   },
   "source": [
    "from sqlalchemy import create_engine\n",
    "import pandas as pd\n",
    "import yaml"
   ],
   "outputs": [],
   "execution_count": 7
  },
  {
   "metadata": {},
   "cell_type": "markdown",
   "source": "",
   "id": "e590dcb3791739f0"
  },
  {
   "metadata": {},
   "cell_type": "markdown",
   "source": "Crear un rango de horas para un solo día, con un paso de una hora",
   "id": "2f0f6b3ccd0d6343"
  },
  {
   "metadata": {
    "ExecuteTime": {
     "end_time": "2024-10-21T00:25:52.336041Z",
     "start_time": "2024-10-21T00:25:52.324078Z"
    }
   },
   "cell_type": "code",
   "source": "horas = pd.date_range(start='00:00', end='23:59', freq='1min', inclusive='left')",
   "id": "cbe9596c02aa7d09",
   "outputs": [],
   "execution_count": 3
  },
  {
   "metadata": {},
   "cell_type": "markdown",
   "source": "Crear el DataFrame de la dimensión hora",
   "id": "af039d0d97f45916"
  },
  {
   "metadata": {
    "ExecuteTime": {
     "end_time": "2024-10-21T00:27:06.560289Z",
     "start_time": "2024-10-21T00:27:06.550021Z"
    }
   },
   "cell_type": "code",
   "source": [
    "dim_hora = pd.DataFrame({\n",
    "    \"hora_completa\": horas.time  # Solo la parte de la hora (HH:MM:SS)\n",
    "})"
   ],
   "id": "19d52bd79728debc",
   "outputs": [],
   "execution_count": 4
  },
  {
   "metadata": {},
   "cell_type": "markdown",
   "source": "Añadir columnas derivadas",
   "id": "ca182451377b0952"
  },
  {
   "metadata": {
    "ExecuteTime": {
     "end_time": "2024-10-21T00:27:42.350403Z",
     "start_time": "2024-10-21T00:27:42.318377Z"
    }
   },
   "cell_type": "code",
   "source": [
    "dim_hora[\"hora_id\"] = dim_hora[\"hora_completa\"].apply(lambda x: int(x.strftime('%H%M')))  # ID de la hora en formato HHMM\n",
    "dim_hora[\"hora\"] = dim_hora[\"hora_completa\"].apply(lambda x: x.strftime('%H'))  # Solo la hora (00, 01, ..., 23)\n",
    "dim_hora[\"minuto\"] = dim_hora[\"hora_completa\"].apply(lambda x: x.strftime('%M'))  # Solo el minuto (00, 01, ..., 59)\n",
    "dim_hora[\"descripcion\"] = dim_hora[\"hora_completa\"].apply(lambda x: x.strftime('%H:%M'))  # Descripción en formato HH:MM"
   ],
   "id": "6f3c360a6184ff18",
   "outputs": [],
   "execution_count": 5
  },
  {
   "metadata": {},
   "cell_type": "markdown",
   "source": "# Ver columnas del DataFrame",
   "id": "bd70e599499b8960"
  },
  {
   "metadata": {
    "ExecuteTime": {
     "end_time": "2024-10-21T00:28:24.460836Z",
     "start_time": "2024-10-21T00:28:24.441516Z"
    }
   },
   "cell_type": "code",
   "source": "dim_hora.head()",
   "id": "f32ab40fdad1eac0",
   "outputs": [
    {
     "data": {
      "text/plain": [
       "  hora_completa  hora_id hora minuto descripcion\n",
       "0      00:00:00        0   00     00       00:00\n",
       "1      00:01:00        1   00     01       00:01\n",
       "2      00:02:00        2   00     02       00:02\n",
       "3      00:03:00        3   00     03       00:03\n",
       "4      00:04:00        4   00     04       00:04"
      ],
      "text/html": [
       "<div>\n",
       "<style scoped>\n",
       "    .dataframe tbody tr th:only-of-type {\n",
       "        vertical-align: middle;\n",
       "    }\n",
       "\n",
       "    .dataframe tbody tr th {\n",
       "        vertical-align: top;\n",
       "    }\n",
       "\n",
       "    .dataframe thead th {\n",
       "        text-align: right;\n",
       "    }\n",
       "</style>\n",
       "<table border=\"1\" class=\"dataframe\">\n",
       "  <thead>\n",
       "    <tr style=\"text-align: right;\">\n",
       "      <th></th>\n",
       "      <th>hora_completa</th>\n",
       "      <th>hora_id</th>\n",
       "      <th>hora</th>\n",
       "      <th>minuto</th>\n",
       "      <th>descripcion</th>\n",
       "    </tr>\n",
       "  </thead>\n",
       "  <tbody>\n",
       "    <tr>\n",
       "      <th>0</th>\n",
       "      <td>00:00:00</td>\n",
       "      <td>0</td>\n",
       "      <td>00</td>\n",
       "      <td>00</td>\n",
       "      <td>00:00</td>\n",
       "    </tr>\n",
       "    <tr>\n",
       "      <th>1</th>\n",
       "      <td>00:01:00</td>\n",
       "      <td>1</td>\n",
       "      <td>00</td>\n",
       "      <td>01</td>\n",
       "      <td>00:01</td>\n",
       "    </tr>\n",
       "    <tr>\n",
       "      <th>2</th>\n",
       "      <td>00:02:00</td>\n",
       "      <td>2</td>\n",
       "      <td>00</td>\n",
       "      <td>02</td>\n",
       "      <td>00:02</td>\n",
       "    </tr>\n",
       "    <tr>\n",
       "      <th>3</th>\n",
       "      <td>00:03:00</td>\n",
       "      <td>3</td>\n",
       "      <td>00</td>\n",
       "      <td>03</td>\n",
       "      <td>00:03</td>\n",
       "    </tr>\n",
       "    <tr>\n",
       "      <th>4</th>\n",
       "      <td>00:04:00</td>\n",
       "      <td>4</td>\n",
       "      <td>00</td>\n",
       "      <td>04</td>\n",
       "      <td>00:04</td>\n",
       "    </tr>\n",
       "  </tbody>\n",
       "</table>\n",
       "</div>"
      ]
     },
     "execution_count": 6,
     "metadata": {},
     "output_type": "execute_result"
    }
   ],
   "execution_count": 6
  },
  {
   "metadata": {},
   "cell_type": "markdown",
   "source": "# Conexión a la Base de Datos",
   "id": "3af618fc57d17dca"
  },
  {
   "metadata": {
    "ExecuteTime": {
     "end_time": "2024-10-21T00:38:50.161370Z",
     "start_time": "2024-10-21T00:38:49.984896Z"
    }
   },
   "cell_type": "code",
   "source": [
    "# Cargar configuración de conexión desde el archivo YAML\n",
    "with open('../config.yml', 'r') as f:\n",
    "    config = yaml.safe_load(f)\n",
    "    config_ryf = config['RAPIDOS-Y_FURIOSOS']\n",
    "    config_etl = config['ETL_RYF']\n",
    "\n",
    "# Construir la URL de conexión para cada base de datos\n",
    "url_ryf = (f\"{config_ryf['drivername']}://{config_ryf['user']}:{config_ryf['password']}@\"\n",
    "           f\"{config_ryf['host']}:{config_ryf['port']}/{config_ryf['dbname']}\")\n",
    "\n",
    "url_etl = (f\"{config_etl['drivername']}://{config_etl['user']}:{config_etl['password']}@\"\n",
    "           f\"{config_etl['host']}:{config_etl['port']}/{config_etl['dbname']}\")\n",
    "\n",
    "# Crear el Engine de SQLAlchemy para ambas conexiones\n",
    "ryf_conn = create_engine(url_ryf)\n",
    "etl_conn = create_engine(url_etl)"
   ],
   "id": "c7b8d980ab4825f0",
   "outputs": [],
   "execution_count": 8
  },
  {
   "metadata": {},
   "cell_type": "markdown",
   "source": "# Crear la dimensión hora (similar al ejemplo anterior)",
   "id": "ea8a97df1f391bb"
  },
  {
   "metadata": {
    "ExecuteTime": {
     "end_time": "2024-10-21T00:39:05.718233Z",
     "start_time": "2024-10-21T00:39:05.708438Z"
    }
   },
   "cell_type": "code",
   "source": "horas = pd.date_range(start='00:00', end='23:59', freq='1min', inclusive='left')",
   "id": "a89b1433ac973a0a",
   "outputs": [],
   "execution_count": 9
  },
  {
   "metadata": {},
   "cell_type": "markdown",
   "source": "# Crear el DataFrame de la dimensión hora",
   "id": "61aa5352a47a534"
  },
  {
   "metadata": {
    "ExecuteTime": {
     "end_time": "2024-10-21T00:39:38.122750Z",
     "start_time": "2024-10-21T00:39:38.110103Z"
    }
   },
   "cell_type": "code",
   "source": [
    "dim_hora = pd.DataFrame({\n",
    "    \"hora_completa\": horas.time  # Solo la parte de la hora (HH:MM:SS)\n",
    "})"
   ],
   "id": "16ee1fc8af8aff20",
   "outputs": [],
   "execution_count": 10
  },
  {
   "metadata": {},
   "cell_type": "markdown",
   "source": "# Añadir columnas derivadas",
   "id": "daf8a8c08921f293"
  },
  {
   "metadata": {
    "ExecuteTime": {
     "end_time": "2024-10-21T00:40:13.835264Z",
     "start_time": "2024-10-21T00:40:13.800694Z"
    }
   },
   "cell_type": "code",
   "source": [
    "dim_hora[\"hora_id\"] = dim_hora[\"hora_completa\"].apply(lambda x: int(x.strftime('%H%M')))  # ID de la hora en formato HHMM\n",
    "dim_hora[\"hora\"] = dim_hora[\"hora_completa\"].apply(lambda x: x.strftime('%H'))  # Solo la hora (00, 01, ..., 23)\n",
    "dim_hora[\"minuto\"] = dim_hora[\"hora_completa\"].apply(lambda x: x.strftime('%M'))  # Solo el minuto (00, 01, ..., 59)\n",
    "dim_hora[\"descripcion\"] = dim_hora[\"hora_completa\"].apply(lambda x: x.strftime('%H:%M'))  # Descripción en formato HH:MM\n"
   ],
   "id": "ef2ce5c00d78c2ee",
   "outputs": [],
   "execution_count": 11
  },
  {
   "metadata": {},
   "cell_type": "markdown",
   "source": "# Cargar la dimensión hora en la base de datos ETL",
   "id": "f12f1e33489c61d7"
  },
  {
   "metadata": {
    "ExecuteTime": {
     "end_time": "2024-10-21T00:40:45.658114Z",
     "start_time": "2024-10-21T00:40:45.406618Z"
    }
   },
   "cell_type": "code",
   "source": "dim_hora.to_sql('dim_hora', etl_conn, if_exists='replace', index_label='key_dim_hora')",
   "id": "78548923e94f56f0",
   "outputs": [
    {
     "data": {
      "text/plain": [
       "439"
      ]
     },
     "execution_count": 12,
     "metadata": {},
     "output_type": "execute_result"
    }
   ],
   "execution_count": 12
  }
 ],
 "metadata": {
  "kernelspec": {
   "display_name": "Python 3",
   "language": "python",
   "name": "python3"
  },
  "language_info": {
   "codemirror_mode": {
    "name": "ipython",
    "version": 2
   },
   "file_extension": ".py",
   "mimetype": "text/x-python",
   "name": "python",
   "nbconvert_exporter": "python",
   "pygments_lexer": "ipython2",
   "version": "2.7.6"
  }
 },
 "nbformat": 4,
 "nbformat_minor": 5
}
