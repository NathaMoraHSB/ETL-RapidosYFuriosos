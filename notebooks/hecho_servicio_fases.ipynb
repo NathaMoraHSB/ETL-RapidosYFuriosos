{
 "cells": [
  {
   "metadata": {},
   "cell_type": "markdown",
   "source": "# Hecho de servicio por fases",
   "id": "547b0c8bcab2306b"
  },
  {
   "metadata": {
    "ExecuteTime": {
     "end_time": "2024-11-03T20:41:09.692227Z",
     "start_time": "2024-11-03T20:41:09.687212Z"
    }
   },
   "cell_type": "code",
   "source": [
    "import datetime\n",
    "import numpy as np\n",
    "import pandas as pd\n",
    "import yaml\n",
    "from sqlalchemy import create_engine\n"
   ],
   "id": "9e98a397a495f4d",
   "outputs": [],
   "execution_count": 2
  },
  {
   "metadata": {},
   "cell_type": "markdown",
   "source": "# Añadir conexión a la base de datos",
   "id": "825e77e3ac131d49"
  },
  {
   "metadata": {
    "ExecuteTime": {
     "end_time": "2024-10-21T22:33:01.602345Z",
     "start_time": "2024-10-21T22:33:01.538105Z"
    }
   },
   "cell_type": "code",
   "source": [
    "with open('../config.yml', 'r') as f:\n",
    "    config = yaml.safe_load(f)\n",
    "    config_ryf = config['RAPIDOS-Y_FURIOSOS']\n",
    "    config_etl = config['ETL_RYF']\n",
    "\n",
    "# Construir la URL de conexión para cada base de datos\n",
    "url_ryf = (f\"{config_ryf['drivername']}://{config_ryf['user']}:{config_ryf['password']}@\"\n",
    "           f\"{config_ryf['host']}:{config_ryf['port']}/{config_ryf['dbname']}\")\n",
    "\n",
    "url_etl = (f\"{config_etl['drivername']}://{config_etl['user']}:{config_etl['password']}@\"\n",
    "           f\"{config_etl['host']}:{config_etl['port']}/{config_etl['dbname']}\")\n",
    "\n",
    "# Crear el Engine de SQLAlchemy para ambas conexiones\n",
    "ryf_conn = create_engine(url_ryf)\n",
    "etl_conn = create_engine(url_etl)"
   ],
   "id": "ff843277ad6fe4e3",
   "outputs": [],
   "execution_count": 2
  },
  {
   "metadata": {},
   "cell_type": "markdown",
   "source": "",
   "id": "d05ffeb2fce9fcf8"
  },
  {
   "metadata": {},
   "cell_type": "markdown",
   "source": "8) Mostrar los tiempos de espera por cada fase del servicio: Iniciado, Con mensajero asignado, recogido en origen, Entregado en Destino, Cerrado. En que fase del servicio hay más demoras?",
   "id": "83f750144d4ee012"
  },
  {
   "metadata": {},
   "cell_type": "markdown",
   "source": "# Extracción de datos",
   "id": "6575cf8be268551c"
  },
  {
   "metadata": {},
   "cell_type": "code",
   "outputs": [],
   "execution_count": null,
   "source": [
    "servicios_df = pd.read_sql(\"SELECT * FROM mensajeria_servicio\", ryf_conn)\n",
    "estados_df = pd.read_sql(\"SELECT * FROM mensajeria_estadosservicio\", ryf_conn)"
   ],
   "id": "80337ab20bb17f5b"
  },
  {
   "metadata": {},
   "cell_type": "markdown",
   "source": "# Transformación",
   "id": "3fd62e3ec5d846"
  },
  {
   "metadata": {},
   "cell_type": "code",
   "outputs": [],
   "execution_count": null,
   "source": [
    "estados_servicio = estados_df.merge(servicios_df, left_on=\"servicio_id\", right_on=\"id\", suffixes=('_estado', '_servicio'))\n",
    "estados_servicio['duracion_fase'] = estados_servicio.groupby(\"servicio_id\")['fecha'].diff()"
   ],
   "id": "cc6fab0e3a28ab8a"
  },
  {
   "metadata": {},
   "cell_type": "markdown",
   "source": "# Filtrar columnas relevantes",
   "id": "eceb6e6947a58a65"
  },
  {
   "metadata": {},
   "cell_type": "code",
   "outputs": [],
   "execution_count": null,
   "source": "hecho_servicio_fases_df = estados_servicio[['servicio_id', 'estado_id', 'fecha', 'duracion_fase']]",
   "id": "ef07bbe5e50a9688"
  },
  {
   "metadata": {},
   "cell_type": "markdown",
   "source": "# Carga al datamart",
   "id": "81ca6c65153e30e9"
  },
  {
   "metadata": {},
   "cell_type": "code",
   "outputs": [],
   "execution_count": null,
   "source": "hecho_servicio_fases_df.to_sql(\"hecho_servicio_fases\", etl_conn, if_exists=\"replace\", index=False)",
   "id": "404b22763322d5b6"
  }
 ],
 "metadata": {
  "kernelspec": {
   "display_name": "Python 3",
   "language": "python",
   "name": "python3"
  },
  "language_info": {
   "codemirror_mode": {
    "name": "ipython",
    "version": 2
   },
   "file_extension": ".py",
   "mimetype": "text/x-python",
   "name": "python",
   "nbconvert_exporter": "python",
   "pygments_lexer": "ipython2",
   "version": "2.7.6"
  }
 },
 "nbformat": 4,
 "nbformat_minor": 5
}
